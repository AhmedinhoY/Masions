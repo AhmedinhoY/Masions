{
 "cells": [
  {
   "cell_type": "code",
   "execution_count": 1,
   "metadata": {},
   "outputs": [
    {
     "name": "stdout",
     "output_type": "stream",
     "text": [
      "\u001b[33mWARNING: Running pip as the 'root' user can result in broken permissions and conflicting behaviour with the system package manager. It is recommended to use a virtual environment instead: https://pip.pypa.io/warnings/venv\u001b[0m\u001b[33m\n",
      "\u001b[0m"
     ]
    }
   ],
   "source": [
    "! pip install -Uqq fastbook kaggle waterfallcharts treeinterpreter dtreeviz==1.4.1\n",
    "! pip install graphviz fastai pandas scikit-learn dtreeviz IPython opendatasets numpy matplotlib seaborn xgboost lightgbm --upgrade --quiet\n"
   ]
  },
  {
   "cell_type": "code",
   "execution_count": 2,
   "metadata": {},
   "outputs": [],
   "source": [
    "from fastbook import *\n",
    "from pandas.api.types import is_string_dtype, is_numeric_dtype, is_categorical_dtype\n",
    "from fastai.tabular.all import *\n",
    "from sklearn.ensemble import RandomForestRegressor\n",
    "from sklearn.tree import DecisionTreeRegressor\n",
    "from dtreeviz.trees import *\n",
    "from IPython.display import Image, display_svg, SVG\n",
    "from fastai.imports import *\n",
    "import pandas as pd\n",
    "import numpy as np\n",
    "import opendatasets as od\n",
    "import os\n",
    "\n",
    "pd.options.display.max_rows = 20\n",
    "pd.options.display.max_columns = 8\n",
    "pd.set_option('display.max_columns', None)\n",
    "pd.set_option('display.max_rows', 150)\n",
    "matplotlib.rcParams['font.size'] = 14\n",
    "matplotlib.rcParams['figure.figsize'] = (10, 6)\n",
    "matplotlib.rcParams['figure.facecolor'] = '#00000000'\n"
   ]
  },
  {
   "cell_type": "code",
   "execution_count": 3,
   "metadata": {},
   "outputs": [
    {
     "name": "stdout",
     "output_type": "stream",
     "text": [
      "Skipping, found downloaded files in \"./usa-real-estate-dataset\" (use force=True to force download)\n"
     ]
    }
   ],
   "source": [
    "# downloading the dataset using the opendatasets library to download the dataset directly from kaggle & to use \n",
    "# it inside the jupyter notebook\n",
    "od.download('https://www.kaggle.com/datasets/ahmedshahriarsakib/usa-real-estate-dataset')"
   ]
  },
  {
   "cell_type": "code",
   "execution_count": 4,
   "metadata": {},
   "outputs": [
    {
     "data": {
      "text/plain": [
       "['realtor-data.zip.csv']"
      ]
     },
     "execution_count": 4,
     "metadata": {},
     "output_type": "execute_result"
    }
   ],
   "source": [
    "os.listdir('usa-real-estate-dataset')"
   ]
  },
  {
   "cell_type": "code",
   "execution_count": 5,
   "metadata": {},
   "outputs": [],
   "source": [
    "df = pd.read_csv('usa-real-estate-dataset/realtor-data.zip.csv')"
   ]
  },
  {
   "cell_type": "code",
   "execution_count": 6,
   "metadata": {},
   "outputs": [
    {
     "data": {
      "text/plain": [
       "brokered_by         4533\n",
       "status                 0\n",
       "price               1541\n",
       "bed               481317\n",
       "bath              511771\n",
       "acre_lot          325589\n",
       "street             10866\n",
       "city                1407\n",
       "state                  8\n",
       "zip_code             299\n",
       "house_size        568484\n",
       "prev_sold_date    734297\n",
       "dtype: int64"
      ]
     },
     "execution_count": 6,
     "metadata": {},
     "output_type": "execute_result"
    }
   ],
   "source": [
    "# all the columns and how much of missing data is there for every column\n",
    "df.isna().sum()"
   ]
  },
  {
   "cell_type": "code",
   "execution_count": 7,
   "metadata": {},
   "outputs": [],
   "source": [
    "# for the price we will drop the null values because 1541 form 2,000,000 is basically nothing\n",
    "\n",
    "# price               1541\n",
    "\n",
    "df.dropna(subset=['price'], inplace=True)\n",
    "\n"
   ]
  },
  {
   "cell_type": "code",
   "execution_count": 8,
   "metadata": {},
   "outputs": [],
   "source": [
    "# drop the following columns: \n",
    "# brokered_by, street,prev_sold_date\n",
    "# more comments on the ipad\n",
    "df = df.drop(columns=['brokered_by', 'street', 'prev_sold_date'])"
   ]
  },
  {
   "cell_type": "code",
   "execution_count": 9,
   "metadata": {},
   "outputs": [
    {
     "data": {
      "text/plain": [
       "status             0\n",
       "price              0\n",
       "bed           480861\n",
       "bath          510992\n",
       "acre_lot      325140\n",
       "city            1404\n",
       "state              8\n",
       "zip_code         298\n",
       "house_size    567874\n",
       "dtype: int64"
      ]
     },
     "execution_count": 9,
     "metadata": {},
     "output_type": "execute_result"
    }
   ],
   "source": [
    "df.isna().sum()"
   ]
  },
  {
   "cell_type": "markdown",
   "metadata": {},
   "source": [
    "### Bedrooms columns imputation"
   ]
  },
  {
   "cell_type": "code",
   "execution_count": 10,
   "metadata": {},
   "outputs": [
    {
     "name": "stderr",
     "output_type": "stream",
     "text": [
      "/tmp/ipykernel_37/316169168.py:3: FutureWarning: A value is trying to be set on a copy of a DataFrame or Series through chained assignment using an inplace method.\n",
      "The behavior will change in pandas 3.0. This inplace method will never work because the intermediate object on which we are setting values always behaves as a copy.\n",
      "\n",
      "For example, when doing 'df[col].method(value, inplace=True)', try using 'df.method({col: value}, inplace=True)' or df[col] = df[col].method(value) instead, to perform the operation inplace on the original object.\n",
      "\n",
      "\n"
     ]
    }
   ],
   "source": [
    "# we will use the median to impute the missing values for the bedrooms\n",
    "# medians can withstand outliers & they are more robust than the mean \n",
    "df['bed'].fillna(df['bed'].median(),inplace=True)"
   ]
  },
  {
   "cell_type": "markdown",
   "metadata": {},
   "source": [
    "### Bathroom Column Engineering"
   ]
  },
  {
   "cell_type": "code",
   "execution_count": 11,
   "metadata": {},
   "outputs": [],
   "source": [
    "df['bath'] = df['bath'].fillna(df['bath'].median()) \n"
   ]
  },
  {
   "cell_type": "code",
   "execution_count": 12,
   "metadata": {},
   "outputs": [
    {
     "data": {
      "text/plain": [
       "status             0\n",
       "price              0\n",
       "bed                0\n",
       "bath               0\n",
       "acre_lot      325140\n",
       "city            1404\n",
       "state              8\n",
       "zip_code         298\n",
       "house_size    567874\n",
       "dtype: int64"
      ]
     },
     "execution_count": 12,
     "metadata": {},
     "output_type": "execute_result"
    }
   ],
   "source": [
    "df.isna().sum()"
   ]
  },
  {
   "cell_type": "markdown",
   "metadata": {},
   "source": [
    "since the `city` & `state` are connected to each other and they are needed to impute values for the zipcode, it is better to drop the missing values because they are little compared to the dataset size"
   ]
  },
  {
   "cell_type": "code",
   "execution_count": 13,
   "metadata": {},
   "outputs": [],
   "source": [
    "df.dropna(subset=['city','state'], inplace=True)"
   ]
  },
  {
   "cell_type": "code",
   "execution_count": 14,
   "metadata": {},
   "outputs": [],
   "source": [
    "df.loc[df['zip_code'] == 0, 'zip_code'] = np.nan"
   ]
  },
  {
   "cell_type": "code",
   "execution_count": 15,
   "metadata": {},
   "outputs": [],
   "source": [
    "df.dropna(subset=['zip_code'], inplace=True)\n"
   ]
  },
  {
   "cell_type": "code",
   "execution_count": 16,
   "metadata": {},
   "outputs": [
    {
     "data": {
      "text/plain": [
       "status             0\n",
       "price              0\n",
       "bed                0\n",
       "bath               0\n",
       "acre_lot      325049\n",
       "city               0\n",
       "state              0\n",
       "zip_code           0\n",
       "house_size    566709\n",
       "dtype: int64"
      ]
     },
     "execution_count": 16,
     "metadata": {},
     "output_type": "execute_result"
    }
   ],
   "source": [
    "df.isna().sum()"
   ]
  },
  {
   "cell_type": "markdown",
   "metadata": {},
   "source": [
    "###  acre_lot (land size) feature engineering\n"
   ]
  },
  {
   "cell_type": "code",
   "execution_count": 17,
   "metadata": {},
   "outputs": [
    {
     "data": {
      "text/plain": [
       "acre_lot\n",
       "0.0    2223\n",
       "Name: count, dtype: int64"
      ]
     },
     "execution_count": 17,
     "metadata": {},
     "output_type": "execute_result"
    }
   ],
   "source": [
    "# there are land sizes which are 0 in size which is unrealistic\n",
    "df.loc[df['acre_lot'] == 0, 'acre_lot'].value_counts()"
   ]
  },
  {
   "cell_type": "code",
   "execution_count": 18,
   "metadata": {},
   "outputs": [],
   "source": [
    "# make zeros null \n",
    "df.loc[df['acre_lot'] == 0, 'acre_lot'] = np.nan"
   ]
  },
  {
   "cell_type": "code",
   "execution_count": 19,
   "metadata": {},
   "outputs": [],
   "source": [
    "# we'll use the median to impute the values for land sizes \n",
    "df['acre_lot'] = df['acre_lot'].fillna(df['acre_lot'].median()) \n"
   ]
  },
  {
   "cell_type": "code",
   "execution_count": 20,
   "metadata": {},
   "outputs": [],
   "source": [
    "Q1 = df['acre_lot'].quantile(0.25)\n",
    "Q3 = df['acre_lot'].quantile(0.75)\n",
    "IQR = Q3 - Q1\n",
    "\n",
    "lower_bound = Q1 - 1.5 * IQR\n",
    "upper_bound = Q3 + 1.5 * IQR\n",
    "\n",
    "df_acre_new = df[ (df['acre_lot'] >= lower_bound) & (df['acre_lot'] <= upper_bound) ]\n",
    "df_acre_new = df_acre_new[ (df_acre_new['acre_lot'] > 0.05) & (df_acre_new['acre_lot'] <0.4)]\n"
   ]
  },
  {
   "cell_type": "code",
   "execution_count": 21,
   "metadata": {},
   "outputs": [],
   "source": [
    "df = df_acre_new"
   ]
  },
  {
   "cell_type": "markdown",
   "metadata": {},
   "source": [
    "### house_size feature engineering"
   ]
  },
  {
   "cell_type": "code",
   "execution_count": 22,
   "metadata": {},
   "outputs": [
    {
     "data": {
      "text/plain": [
       "1701.0"
      ]
     },
     "execution_count": 22,
     "metadata": {},
     "output_type": "execute_result"
    }
   ],
   "source": [
    "# house_size is in square feet and 1760 square feet is realistic so that's good \n",
    "df['house_size'].median()"
   ]
  },
  {
   "cell_type": "code",
   "execution_count": 23,
   "metadata": {},
   "outputs": [
    {
     "data": {
      "text/plain": [
       "house_size\n",
       "1200.0     6211\n",
       "1000.0     4336\n",
       "1500.0     4273\n",
       "1400.0     4255\n",
       "1800.0     4037\n",
       "           ... \n",
       "15566.0       1\n",
       "14980.0       1\n",
       "6613.0        1\n",
       "8541.0        1\n",
       "9926.0        1\n",
       "Name: count, Length: 8412, dtype: int64"
      ]
     },
     "execution_count": 23,
     "metadata": {},
     "output_type": "execute_result"
    }
   ],
   "source": [
    "df['house_size'].value_counts().sort_values(ascending=False)"
   ]
  },
  {
   "cell_type": "code",
   "execution_count": 24,
   "metadata": {},
   "outputs": [],
   "source": [
    "# removing unrealistic house sizes by making them null\n",
    "df.loc[df['house_size'] < 12, 'house_size'] = np.nan \n"
   ]
  },
  {
   "cell_type": "code",
   "execution_count": 25,
   "metadata": {},
   "outputs": [],
   "source": [
    "df['house_size'] = df['house_size'].fillna(df['house_size'].median())"
   ]
  },
  {
   "cell_type": "code",
   "execution_count": 26,
   "metadata": {},
   "outputs": [
    {
     "data": {
      "text/plain": [
       "status        0\n",
       "price         0\n",
       "bed           0\n",
       "bath          0\n",
       "acre_lot      0\n",
       "city          0\n",
       "state         0\n",
       "zip_code      0\n",
       "house_size    0\n",
       "dtype: int64"
      ]
     },
     "execution_count": 26,
     "metadata": {},
     "output_type": "execute_result"
    }
   ],
   "source": [
    "df.isna().sum()"
   ]
  },
  {
   "cell_type": "code",
   "execution_count": 27,
   "metadata": {},
   "outputs": [
    {
     "data": {
      "text/plain": [
       "4162       9500.0\n",
       "5055       7900.0\n",
       "6408        445.0\n",
       "6409        445.0\n",
       "6770        445.0\n",
       "            ...  \n",
       "2218054    9000.0\n",
       "2219003    5000.0\n",
       "2219006    5000.0\n",
       "2219010    5000.0\n",
       "2219018    5000.0\n",
       "Name: price, Length: 12386, dtype: float64"
      ]
     },
     "execution_count": 27,
     "metadata": {},
     "output_type": "execute_result"
    }
   ],
   "source": [
    "df.loc[df['price'] <10000, 'price']"
   ]
  },
  {
   "cell_type": "code",
   "execution_count": 28,
   "metadata": {},
   "outputs": [],
   "source": [
    "# fixing the price issues \n",
    "# houses for sale less than 10,000 dollars does not make any sense so impute those values again\n",
    "\n",
    "# make zeros null \n",
    "df.loc[df['price'] < 10000, 'price'] = np.nan\n",
    "df.dropna(subset=['price'], inplace=True)"
   ]
  },
  {
   "cell_type": "code",
   "execution_count": 29,
   "metadata": {},
   "outputs": [],
   "source": [
    "dep_var = 'price'"
   ]
  },
  {
   "cell_type": "code",
   "execution_count": 30,
   "metadata": {},
   "outputs": [],
   "source": [
    "# any house greater than 1,000,000 dollars drop it\n",
    "df.loc[df[dep_var]>1000000,'price'] = np.nan\n",
    "df.dropna(subset=['price'], inplace=True)\n"
   ]
  },
  {
   "cell_type": "markdown",
   "metadata": {},
   "source": [
    "## removing the outliers\n"
   ]
  },
  {
   "cell_type": "code",
   "execution_count": 31,
   "metadata": {},
   "outputs": [
    {
     "data": {
      "text/html": [
       "<div>\n",
       "<style scoped>\n",
       "    .dataframe tbody tr th:only-of-type {\n",
       "        vertical-align: middle;\n",
       "    }\n",
       "\n",
       "    .dataframe tbody tr th {\n",
       "        vertical-align: top;\n",
       "    }\n",
       "\n",
       "    .dataframe thead th {\n",
       "        text-align: right;\n",
       "    }\n",
       "</style>\n",
       "<table border=\"1\" class=\"dataframe\">\n",
       "  <thead>\n",
       "    <tr style=\"text-align: right;\">\n",
       "      <th></th>\n",
       "      <th>price</th>\n",
       "      <th>bed</th>\n",
       "      <th>bath</th>\n",
       "      <th>acre_lot</th>\n",
       "      <th>zip_code</th>\n",
       "      <th>house_size</th>\n",
       "    </tr>\n",
       "  </thead>\n",
       "  <tbody>\n",
       "    <tr>\n",
       "      <th>count</th>\n",
       "      <td>1.267305e+06</td>\n",
       "      <td>1.267305e+06</td>\n",
       "      <td>1.267305e+06</td>\n",
       "      <td>1.267305e+06</td>\n",
       "      <td>1.267305e+06</td>\n",
       "      <td>1.267305e+06</td>\n",
       "    </tr>\n",
       "    <tr>\n",
       "      <th>mean</th>\n",
       "      <td>3.545872e+05</td>\n",
       "      <td>3.150424e+00</td>\n",
       "      <td>2.247247e+00</td>\n",
       "      <td>2.096170e-01</td>\n",
       "      <td>5.310638e+04</td>\n",
       "      <td>2.617463e+03</td>\n",
       "    </tr>\n",
       "    <tr>\n",
       "      <th>std</th>\n",
       "      <td>2.256044e+05</td>\n",
       "      <td>1.271066e+00</td>\n",
       "      <td>1.421241e+00</td>\n",
       "      <td>7.438446e-02</td>\n",
       "      <td>2.848694e+04</td>\n",
       "      <td>9.241864e+05</td>\n",
       "    </tr>\n",
       "    <tr>\n",
       "      <th>min</th>\n",
       "      <td>1.000000e+04</td>\n",
       "      <td>1.000000e+00</td>\n",
       "      <td>1.000000e+00</td>\n",
       "      <td>6.000000e-02</td>\n",
       "      <td>6.010000e+02</td>\n",
       "      <td>1.000000e+02</td>\n",
       "    </tr>\n",
       "    <tr>\n",
       "      <th>25%</th>\n",
       "      <td>1.849000e+05</td>\n",
       "      <td>3.000000e+00</td>\n",
       "      <td>2.000000e+00</td>\n",
       "      <td>1.500000e-01</td>\n",
       "      <td>3.108800e+04</td>\n",
       "      <td>1.320000e+03</td>\n",
       "    </tr>\n",
       "    <tr>\n",
       "      <th>50%</th>\n",
       "      <td>3.200000e+05</td>\n",
       "      <td>3.000000e+00</td>\n",
       "      <td>2.000000e+00</td>\n",
       "      <td>2.200000e-01</td>\n",
       "      <td>5.250100e+04</td>\n",
       "      <td>1.701000e+03</td>\n",
       "    </tr>\n",
       "    <tr>\n",
       "      <th>75%</th>\n",
       "      <td>4.850000e+05</td>\n",
       "      <td>4.000000e+00</td>\n",
       "      <td>3.000000e+00</td>\n",
       "      <td>2.600000e-01</td>\n",
       "      <td>7.765000e+04</td>\n",
       "      <td>2.080000e+03</td>\n",
       "    </tr>\n",
       "    <tr>\n",
       "      <th>max</th>\n",
       "      <td>1.000000e+06</td>\n",
       "      <td>4.730000e+02</td>\n",
       "      <td>8.300000e+02</td>\n",
       "      <td>3.900000e-01</td>\n",
       "      <td>9.992900e+04</td>\n",
       "      <td>1.040400e+09</td>\n",
       "    </tr>\n",
       "  </tbody>\n",
       "</table>\n",
       "</div>"
      ],
      "text/plain": [
       "              price           bed          bath      acre_lot      zip_code  \\\n",
       "count  1.267305e+06  1.267305e+06  1.267305e+06  1.267305e+06  1.267305e+06   \n",
       "mean   3.545872e+05  3.150424e+00  2.247247e+00  2.096170e-01  5.310638e+04   \n",
       "std    2.256044e+05  1.271066e+00  1.421241e+00  7.438446e-02  2.848694e+04   \n",
       "min    1.000000e+04  1.000000e+00  1.000000e+00  6.000000e-02  6.010000e+02   \n",
       "25%    1.849000e+05  3.000000e+00  2.000000e+00  1.500000e-01  3.108800e+04   \n",
       "50%    3.200000e+05  3.000000e+00  2.000000e+00  2.200000e-01  5.250100e+04   \n",
       "75%    4.850000e+05  4.000000e+00  3.000000e+00  2.600000e-01  7.765000e+04   \n",
       "max    1.000000e+06  4.730000e+02  8.300000e+02  3.900000e-01  9.992900e+04   \n",
       "\n",
       "         house_size  \n",
       "count  1.267305e+06  \n",
       "mean   2.617463e+03  \n",
       "std    9.241864e+05  \n",
       "min    1.000000e+02  \n",
       "25%    1.320000e+03  \n",
       "50%    1.701000e+03  \n",
       "75%    2.080000e+03  \n",
       "max    1.040400e+09  "
      ]
     },
     "execution_count": 31,
     "metadata": {},
     "output_type": "execute_result"
    }
   ],
   "source": [
    "df.describe()"
   ]
  },
  {
   "cell_type": "code",
   "execution_count": 32,
   "metadata": {},
   "outputs": [],
   "source": [
    "# Q1 = df['price'].quantile(0.25)\n",
    "# Q3 = df['price'].quantile(0.75)\n",
    "# IQR = Q3-Q1\n",
    "\n",
    "# # outlier boundries\n",
    "# lower_bound = Q1 - 1.5 * IQR\n",
    "# upper_bound = Q3 + 1.5 * IQR\n",
    "\n",
    "# df_cleaned = df[(df['price'] >= lower_bound) & (df['price'] <= upper_bound)]\n",
    "\n",
    "# print(\n",
    "#     f'Original dataset length: {len(df)} , After Outlier removal: {len(df_cleaned)}')"
   ]
  },
  {
   "cell_type": "code",
   "execution_count": 33,
   "metadata": {},
   "outputs": [
    {
     "data": {
      "text/plain": [
       "0.0012445268706183545"
      ]
     },
     "execution_count": 33,
     "metadata": {},
     "output_type": "execute_result"
    }
   ],
   "source": [
    "df_cleaned = df[(df['price'] > 50000) & (df['price'] < 1000000)].copy()\n",
    "p = np.log(df_cleaned['price'])\n",
    "\n",
    "p[(p > 12) & (p < 13.652)].skew()"
   ]
  },
  {
   "cell_type": "code",
   "execution_count": 34,
   "metadata": {},
   "outputs": [],
   "source": [
    "df_cleaned['price'] = np.log(df_cleaned['price'])"
   ]
  },
  {
   "cell_type": "markdown",
   "metadata": {},
   "source": [
    "### best std, mean, skewness"
   ]
  },
  {
   "cell_type": "code",
   "execution_count": 35,
   "metadata": {},
   "outputs": [],
   "source": [
    "df_cleaned = df_cleaned[(df_cleaned.price > 12) & (df_cleaned.price <13.652)]"
   ]
  },
  {
   "cell_type": "code",
   "execution_count": 36,
   "metadata": {},
   "outputs": [
    {
     "data": {
      "text/plain": [
       "-0.8849292292110382"
      ]
     },
     "execution_count": 36,
     "metadata": {},
     "output_type": "execute_result"
    }
   ],
   "source": [
    "df_cleaned.price.kurt()"
   ]
  },
  {
   "cell_type": "code",
   "execution_count": 37,
   "metadata": {},
   "outputs": [
    {
     "data": {
      "text/plain": [
       "count    947711.000000\n",
       "mean         12.821715\n",
       "std           0.416950\n",
       "min          12.000278\n",
       "25%          12.505807\n",
       "50%          12.821258\n",
       "75%          13.134392\n",
       "max          13.651950\n",
       "Name: price, dtype: float64"
      ]
     },
     "execution_count": 37,
     "metadata": {},
     "output_type": "execute_result"
    }
   ],
   "source": [
    "df_cleaned.price.describe()"
   ]
  },
  {
   "cell_type": "markdown",
   "metadata": {},
   "source": [
    "# learning"
   ]
  },
  {
   "cell_type": "code",
   "execution_count": 38,
   "metadata": {},
   "outputs": [],
   "source": [
    "df = df_cleaned"
   ]
  },
  {
   "cell_type": "code",
   "execution_count": 39,
   "metadata": {},
   "outputs": [
    {
     "data": {
      "text/plain": [
       "<Axes: >"
      ]
     },
     "execution_count": 39,
     "metadata": {},
     "output_type": "execute_result"
    },
    {
     "data": {
      "image/png": "[encoded data removed]",
      "text/plain": [
       "<Figure size 1000x600 with 1 Axes>"
      ]
     },
     "metadata": {
      "needs_background": "light"
     },
     "output_type": "display_data"
    }
   ],
   "source": [
    "df.price.hist()"
   ]
  },
  {
   "cell_type": "code",
   "execution_count": 40,
   "metadata": {},
   "outputs": [
    {
     "name": "stdout",
     "output_type": "stream",
     "text": [
      " Skewness of the target, price: 0.0012445268706183545\n"
     ]
    }
   ],
   "source": [
    "\n",
    "dep_var= 'price'\n",
    "df[dep_var].describe()\n",
    "skew = df['price'].skew()\n",
    "print(f' Skewness of the target, price: { skew }')\n",
    "\n"
   ]
  },
  {
   "cell_type": "code",
   "execution_count": 41,
   "metadata": {},
   "outputs": [
    {
     "data": {
      "text/plain": [
       "<Axes: >"
      ]
     },
     "execution_count": 41,
     "metadata": {},
     "output_type": "execute_result"
    },
    {
     "data": {
      "image/png": "[encoded data removed]",
      "text/plain": [
       "<Figure size 1000x600 with 1 Axes>"
      ]
     },
     "metadata": {
      "needs_background": "light"
     },
     "output_type": "display_data"
    }
   ],
   "source": [
    "df.price.hist()"
   ]
  },
  {
   "cell_type": "code",
   "execution_count": 42,
   "metadata": {},
   "outputs": [],
   "source": [
    "Q1 = df['bed'].quantile(0.25)\n",
    "Q3 = df['bed'].quantile(0.75)\n",
    "IQR = Q3 - Q1\n",
    "\n",
    "lower_bound = Q1 - 1.5 * IQR \n",
    "upper_bound = Q3 + 1.5 * IQR \n",
    "lower_bound , upper_bound\n",
    "\n",
    "df_2 = df.copy()\n",
    "df_2['bed'] = df_2['bed'].clip(upper=6)"
   ]
  },
  {
   "cell_type": "code",
   "execution_count": 43,
   "metadata": {},
   "outputs": [
    {
     "data": {
      "text/plain": [
       "0.0012445268706183545"
      ]
     },
     "execution_count": 43,
     "metadata": {},
     "output_type": "execute_result"
    }
   ],
   "source": [
    "df_2['price'].skew()\n"
   ]
  },
  {
   "cell_type": "code",
   "execution_count": 44,
   "metadata": {},
   "outputs": [
    {
     "data": {
      "text/plain": [
       "(0.5, 4.5)"
      ]
     },
     "execution_count": 44,
     "metadata": {},
     "output_type": "execute_result"
    }
   ],
   "source": [
    "Q1 = df['bath'].quantile(0.25)\n",
    "Q3 = df['bath'].quantile(0.75)\n",
    "IQR = Q3 - Q1\n",
    "\n",
    "lower_bound = Q1 - 1.5 * IQR \n",
    "upper_bound = Q3 + 1.5 * IQR \n",
    "lower_bound , upper_bound"
   ]
  },
  {
   "cell_type": "code",
   "execution_count": 45,
   "metadata": {},
   "outputs": [],
   "source": [
    "df_2['bath'] = df_2['bath'].clip(upper=5)\n"
   ]
  },
  {
   "cell_type": "code",
   "execution_count": 46,
   "metadata": {},
   "outputs": [
    {
     "data": {
      "text/plain": [
       "(125.0, 3461.0)"
      ]
     },
     "execution_count": 46,
     "metadata": {},
     "output_type": "execute_result"
    }
   ],
   "source": [
    "Q1 = df['house_size'].quantile(0.25)\n",
    "Q3 = df['house_size'].quantile(0.75)\n",
    "IQR = Q3 - Q1\n",
    "\n",
    "lower_bound = Q1 - 1.5 * IQR \n",
    "upper_bound = Q3 + 1.5 * IQR \n",
    "lower_bound , upper_bound"
   ]
  },
  {
   "cell_type": "code",
   "execution_count": 47,
   "metadata": {},
   "outputs": [
    {
     "data": {
      "text/plain": [
       "count    947711.000000\n",
       "mean       1867.426519\n",
       "std        1344.423102\n",
       "min         100.000000\n",
       "25%        1376.000000\n",
       "50%        1701.000000\n",
       "75%        2210.000000\n",
       "max      800900.000000\n",
       "Name: house_size, dtype: float64"
      ]
     },
     "execution_count": 47,
     "metadata": {},
     "output_type": "execute_result"
    }
   ],
   "source": [
    "df_2.house_size.describe()"
   ]
  },
  {
   "cell_type": "code",
   "execution_count": 48,
   "metadata": {},
   "outputs": [],
   "source": [
    "# anything lower than 800 square feet is not realistic to live in, so replace it will 800\n",
    "df_2.loc[df_2['house_size'] < 800,'house_size'] = 800"
   ]
  },
  {
   "cell_type": "code",
   "execution_count": 49,
   "metadata": {},
   "outputs": [],
   "source": [
    "df_2['house_size'] = df_2['house_size'].clip(upper=upper_bound)"
   ]
  },
  {
   "cell_type": "code",
   "execution_count": 50,
   "metadata": {},
   "outputs": [],
   "source": [
    "df_2['house_size'] = df_2['house_size'] * 0.092903"
   ]
  },
  {
   "cell_type": "code",
   "execution_count": 51,
   "metadata": {},
   "outputs": [],
   "source": [
    "df_2['acre_lot'] = df_2['acre_lot'] *4046.86"
   ]
  },
  {
   "cell_type": "code",
   "execution_count": 52,
   "metadata": {},
   "outputs": [],
   "source": [
    "df_2.rename(columns={'acre_lot': 'land_size'}, inplace=True)"
   ]
  },
  {
   "cell_type": "code",
   "execution_count": 53,
   "metadata": {},
   "outputs": [
    {
     "data": {
      "text/html": [
       "<div>\n",
       "<style scoped>\n",
       "    .dataframe tbody tr th:only-of-type {\n",
       "        vertical-align: middle;\n",
       "    }\n",
       "\n",
       "    .dataframe tbody tr th {\n",
       "        vertical-align: top;\n",
       "    }\n",
       "\n",
       "    .dataframe thead th {\n",
       "        text-align: right;\n",
       "    }\n",
       "</style>\n",
       "<table border=\"1\" class=\"dataframe\">\n",
       "  <thead>\n",
       "    <tr style=\"text-align: right;\">\n",
       "      <th></th>\n",
       "      <th>land_size</th>\n",
       "      <th>house_size</th>\n",
       "    </tr>\n",
       "  </thead>\n",
       "  <tbody>\n",
       "    <tr>\n",
       "      <th>count</th>\n",
       "      <td>947711.000000</td>\n",
       "      <td>947711.000000</td>\n",
       "    </tr>\n",
       "    <tr>\n",
       "      <th>mean</th>\n",
       "      <td>843.419546</td>\n",
       "      <td>171.131352</td>\n",
       "    </tr>\n",
       "    <tr>\n",
       "      <th>std</th>\n",
       "      <td>296.692430</td>\n",
       "      <td>61.060630</td>\n",
       "    </tr>\n",
       "    <tr>\n",
       "      <th>min</th>\n",
       "      <td>242.811600</td>\n",
       "      <td>74.322400</td>\n",
       "    </tr>\n",
       "    <tr>\n",
       "      <th>25%</th>\n",
       "      <td>607.029000</td>\n",
       "      <td>127.834528</td>\n",
       "    </tr>\n",
       "    <tr>\n",
       "      <th>50%</th>\n",
       "      <td>890.309200</td>\n",
       "      <td>158.028003</td>\n",
       "    </tr>\n",
       "    <tr>\n",
       "      <th>75%</th>\n",
       "      <td>1052.183600</td>\n",
       "      <td>205.315630</td>\n",
       "    </tr>\n",
       "    <tr>\n",
       "      <th>max</th>\n",
       "      <td>1578.275400</td>\n",
       "      <td>321.537283</td>\n",
       "    </tr>\n",
       "  </tbody>\n",
       "</table>\n",
       "</div>"
      ],
      "text/plain": [
       "           land_size     house_size\n",
       "count  947711.000000  947711.000000\n",
       "mean      843.419546     171.131352\n",
       "std       296.692430      61.060630\n",
       "min       242.811600      74.322400\n",
       "25%       607.029000     127.834528\n",
       "50%       890.309200     158.028003\n",
       "75%      1052.183600     205.315630\n",
       "max      1578.275400     321.537283"
      ]
     },
     "execution_count": 53,
     "metadata": {},
     "output_type": "execute_result"
    }
   ],
   "source": [
    "df_2[['land_size','house_size']].describe()"
   ]
  },
  {
   "cell_type": "code",
   "execution_count": 54,
   "metadata": {},
   "outputs": [
    {
     "data": {
      "text/plain": [
       "0.0012445268706183545"
      ]
     },
     "execution_count": 54,
     "metadata": {},
     "output_type": "execute_result"
    }
   ],
   "source": [
    "df_2.price.skew()"
   ]
  },
  {
   "cell_type": "markdown",
   "metadata": {},
   "source": [
    "### the data is cleaned, we do not have any null values, but we have outliers this does not really matters since we will be using a randomForest"
   ]
  },
  {
   "cell_type": "code",
   "execution_count": 55,
   "metadata": {},
   "outputs": [],
   "source": [
    "df = df_2.copy()"
   ]
  },
  {
   "cell_type": "code",
   "execution_count": 56,
   "metadata": {},
   "outputs": [
    {
     "data": {
      "text/html": [
       "<div>\n",
       "<style scoped>\n",
       "    .dataframe tbody tr th:only-of-type {\n",
       "        vertical-align: middle;\n",
       "    }\n",
       "\n",
       "    .dataframe tbody tr th {\n",
       "        vertical-align: top;\n",
       "    }\n",
       "\n",
       "    .dataframe thead th {\n",
       "        text-align: right;\n",
       "    }\n",
       "</style>\n",
       "<table border=\"1\" class=\"dataframe\">\n",
       "  <thead>\n",
       "    <tr style=\"text-align: right;\">\n",
       "      <th></th>\n",
       "      <th>price</th>\n",
       "      <th>bed</th>\n",
       "      <th>bath</th>\n",
       "      <th>land_size</th>\n",
       "      <th>zip_code</th>\n",
       "      <th>house_size</th>\n",
       "    </tr>\n",
       "  </thead>\n",
       "  <tbody>\n",
       "    <tr>\n",
       "      <th>count</th>\n",
       "      <td>947711.000000</td>\n",
       "      <td>947711.000000</td>\n",
       "      <td>947711.000000</td>\n",
       "      <td>947711.000000</td>\n",
       "      <td>947711.000000</td>\n",
       "      <td>947711.000000</td>\n",
       "    </tr>\n",
       "    <tr>\n",
       "      <th>mean</th>\n",
       "      <td>12.821715</td>\n",
       "      <td>3.206713</td>\n",
       "      <td>2.352889</td>\n",
       "      <td>843.419546</td>\n",
       "      <td>53864.220250</td>\n",
       "      <td>171.131352</td>\n",
       "    </tr>\n",
       "    <tr>\n",
       "      <th>std</th>\n",
       "      <td>0.416950</td>\n",
       "      <td>0.955199</td>\n",
       "      <td>0.817503</td>\n",
       "      <td>296.692430</td>\n",
       "      <td>29381.707055</td>\n",
       "      <td>61.060630</td>\n",
       "    </tr>\n",
       "    <tr>\n",
       "      <th>min</th>\n",
       "      <td>12.000278</td>\n",
       "      <td>1.000000</td>\n",
       "      <td>1.000000</td>\n",
       "      <td>242.811600</td>\n",
       "      <td>602.000000</td>\n",
       "      <td>74.322400</td>\n",
       "    </tr>\n",
       "    <tr>\n",
       "      <th>25%</th>\n",
       "      <td>12.505807</td>\n",
       "      <td>3.000000</td>\n",
       "      <td>2.000000</td>\n",
       "      <td>607.029000</td>\n",
       "      <td>30180.000000</td>\n",
       "      <td>127.834528</td>\n",
       "    </tr>\n",
       "    <tr>\n",
       "      <th>50%</th>\n",
       "      <td>12.821258</td>\n",
       "      <td>3.000000</td>\n",
       "      <td>2.000000</td>\n",
       "      <td>890.309200</td>\n",
       "      <td>54650.000000</td>\n",
       "      <td>158.028003</td>\n",
       "    </tr>\n",
       "    <tr>\n",
       "      <th>75%</th>\n",
       "      <td>13.134392</td>\n",
       "      <td>4.000000</td>\n",
       "      <td>3.000000</td>\n",
       "      <td>1052.183600</td>\n",
       "      <td>79602.000000</td>\n",
       "      <td>205.315630</td>\n",
       "    </tr>\n",
       "    <tr>\n",
       "      <th>max</th>\n",
       "      <td>13.651950</td>\n",
       "      <td>6.000000</td>\n",
       "      <td>5.000000</td>\n",
       "      <td>1578.275400</td>\n",
       "      <td>99923.000000</td>\n",
       "      <td>321.537283</td>\n",
       "    </tr>\n",
       "  </tbody>\n",
       "</table>\n",
       "</div>"
      ],
      "text/plain": [
       "               price            bed           bath      land_size  \\\n",
       "count  947711.000000  947711.000000  947711.000000  947711.000000   \n",
       "mean       12.821715       3.206713       2.352889     843.419546   \n",
       "std         0.416950       0.955199       0.817503     296.692430   \n",
       "min        12.000278       1.000000       1.000000     242.811600   \n",
       "25%        12.505807       3.000000       2.000000     607.029000   \n",
       "50%        12.821258       3.000000       2.000000     890.309200   \n",
       "75%        13.134392       4.000000       3.000000    1052.183600   \n",
       "max        13.651950       6.000000       5.000000    1578.275400   \n",
       "\n",
       "            zip_code     house_size  \n",
       "count  947711.000000  947711.000000  \n",
       "mean    53864.220250     171.131352  \n",
       "std     29381.707055      61.060630  \n",
       "min       602.000000      74.322400  \n",
       "25%     30180.000000     127.834528  \n",
       "50%     54650.000000     158.028003  \n",
       "75%     79602.000000     205.315630  \n",
       "max     99923.000000     321.537283  "
      ]
     },
     "execution_count": 56,
     "metadata": {},
     "output_type": "execute_result"
    }
   ],
   "source": [
    "df.describe() # limitation, land size mean is wayyy larger than house size, is it something related to urban areas or what ? "
   ]
  },
  {
   "cell_type": "code",
   "execution_count": 57,
   "metadata": {},
   "outputs": [
    {
     "data": {
      "text/plain": [
       "count    947711.000000\n",
       "mean         12.821715\n",
       "std           0.416950\n",
       "min          12.000278\n",
       "25%          12.505807\n",
       "50%          12.821258\n",
       "75%          13.134392\n",
       "max          13.651950\n",
       "Name: price, dtype: float64"
      ]
     },
     "execution_count": 57,
     "metadata": {},
     "output_type": "execute_result"
    }
   ],
   "source": [
    "df[dep_var].describe()"
   ]
  },
  {
   "cell_type": "markdown",
   "metadata": {},
   "source": [
    "# Working with a sample of the data"
   ]
  },
  {
   "cell_type": "code",
   "execution_count": 58,
   "metadata": {},
   "outputs": [
    {
     "data": {
      "text/plain": [
       "<Axes: >"
      ]
     },
     "execution_count": 58,
     "metadata": {},
     "output_type": "execute_result"
    },
    {
     "data": {
      "image/png": "[encoded data removed]",
      "text/plain": [
       "<Figure size 1000x600 with 1 Axes>"
      ]
     },
     "metadata": {
      "needs_background": "light"
     },
     "output_type": "display_data"
    }
   ],
   "source": [
    "df.price.hist()"
   ]
  },
  {
   "cell_type": "code",
   "execution_count": 59,
   "metadata": {},
   "outputs": [
    {
     "data": {
      "text/html": [
       "<div>\n",
       "<style scoped>\n",
       "    .dataframe tbody tr th:only-of-type {\n",
       "        vertical-align: middle;\n",
       "    }\n",
       "\n",
       "    .dataframe tbody tr th {\n",
       "        vertical-align: top;\n",
       "    }\n",
       "\n",
       "    .dataframe thead th {\n",
       "        text-align: right;\n",
       "    }\n",
       "</style>\n",
       "<table border=\"1\" class=\"dataframe\">\n",
       "  <thead>\n",
       "    <tr style=\"text-align: right;\">\n",
       "      <th></th>\n",
       "      <th>status</th>\n",
       "      <th>price</th>\n",
       "      <th>bed</th>\n",
       "      <th>bath</th>\n",
       "      <th>land_size</th>\n",
       "      <th>city</th>\n",
       "      <th>state</th>\n",
       "      <th>zip_code</th>\n",
       "      <th>house_size</th>\n",
       "    </tr>\n",
       "  </thead>\n",
       "  <tbody>\n",
       "    <tr>\n",
       "      <th>16</th>\n",
       "      <td>for_sale</td>\n",
       "      <td>12.367341</td>\n",
       "      <td>4.0</td>\n",
       "      <td>4.0</td>\n",
       "      <td>890.3092</td>\n",
       "      <td>Mayaguez</td>\n",
       "      <td>Puerto Rico</td>\n",
       "      <td>680.0</td>\n",
       "      <td>320.515350</td>\n",
       "    </tr>\n",
       "    <tr>\n",
       "      <th>21</th>\n",
       "      <td>for_sale</td>\n",
       "      <td>12.013701</td>\n",
       "      <td>6.0</td>\n",
       "      <td>3.0</td>\n",
       "      <td>404.6860</td>\n",
       "      <td>Moca</td>\n",
       "      <td>Puerto Rico</td>\n",
       "      <td>676.0</td>\n",
       "      <td>278.709000</td>\n",
       "    </tr>\n",
       "    <tr>\n",
       "      <th>25</th>\n",
       "      <td>for_sale</td>\n",
       "      <td>12.449019</td>\n",
       "      <td>3.0</td>\n",
       "      <td>2.0</td>\n",
       "      <td>1133.1208</td>\n",
       "      <td>San Sebastian</td>\n",
       "      <td>Puerto Rico</td>\n",
       "      <td>685.0</td>\n",
       "      <td>139.354500</td>\n",
       "    </tr>\n",
       "    <tr>\n",
       "      <th>26</th>\n",
       "      <td>for_sale</td>\n",
       "      <td>12.959844</td>\n",
       "      <td>4.0</td>\n",
       "      <td>3.0</td>\n",
       "      <td>1214.0580</td>\n",
       "      <td>Ponce</td>\n",
       "      <td>Puerto Rico</td>\n",
       "      <td>730.0</td>\n",
       "      <td>278.709000</td>\n",
       "    </tr>\n",
       "    <tr>\n",
       "      <th>31</th>\n",
       "      <td>for_sale</td>\n",
       "      <td>12.323856</td>\n",
       "      <td>5.0</td>\n",
       "      <td>4.0</td>\n",
       "      <td>485.6232</td>\n",
       "      <td>Ponce</td>\n",
       "      <td>Puerto Rico</td>\n",
       "      <td>717.0</td>\n",
       "      <td>148.644800</td>\n",
       "    </tr>\n",
       "    <tr>\n",
       "      <th>...</th>\n",
       "      <td>...</td>\n",
       "      <td>...</td>\n",
       "      <td>...</td>\n",
       "      <td>...</td>\n",
       "      <td>...</td>\n",
       "      <td>...</td>\n",
       "      <td>...</td>\n",
       "      <td>...</td>\n",
       "      <td>...</td>\n",
       "    </tr>\n",
       "    <tr>\n",
       "      <th>2226376</th>\n",
       "      <td>sold</td>\n",
       "      <td>12.736407</td>\n",
       "      <td>4.0</td>\n",
       "      <td>2.0</td>\n",
       "      <td>809.3720</td>\n",
       "      <td>Richland</td>\n",
       "      <td>Washington</td>\n",
       "      <td>99354.0</td>\n",
       "      <td>258.270340</td>\n",
       "    </tr>\n",
       "    <tr>\n",
       "      <th>2226377</th>\n",
       "      <td>sold</td>\n",
       "      <td>12.793581</td>\n",
       "      <td>4.0</td>\n",
       "      <td>2.0</td>\n",
       "      <td>1335.4638</td>\n",
       "      <td>Richland</td>\n",
       "      <td>Washington</td>\n",
       "      <td>99354.0</td>\n",
       "      <td>321.537283</td>\n",
       "    </tr>\n",
       "    <tr>\n",
       "      <th>2226378</th>\n",
       "      <td>sold</td>\n",
       "      <td>12.765688</td>\n",
       "      <td>3.0</td>\n",
       "      <td>2.0</td>\n",
       "      <td>404.6860</td>\n",
       "      <td>Richland</td>\n",
       "      <td>Washington</td>\n",
       "      <td>99354.0</td>\n",
       "      <td>150.131248</td>\n",
       "    </tr>\n",
       "    <tr>\n",
       "      <th>2226380</th>\n",
       "      <td>sold</td>\n",
       "      <td>12.100156</td>\n",
       "      <td>2.0</td>\n",
       "      <td>1.0</td>\n",
       "      <td>364.2174</td>\n",
       "      <td>Richland</td>\n",
       "      <td>Washington</td>\n",
       "      <td>99354.0</td>\n",
       "      <td>86.678499</td>\n",
       "    </tr>\n",
       "    <tr>\n",
       "      <th>2226381</th>\n",
       "      <td>sold</td>\n",
       "      <td>13.270783</td>\n",
       "      <td>5.0</td>\n",
       "      <td>3.0</td>\n",
       "      <td>1254.5266</td>\n",
       "      <td>Richland</td>\n",
       "      <td>Washington</td>\n",
       "      <td>99354.0</td>\n",
       "      <td>321.537283</td>\n",
       "    </tr>\n",
       "  </tbody>\n",
       "</table>\n",
       "<p>947711 rows × 9 columns</p>\n",
       "</div>"
      ],
      "text/plain": [
       "           status      price  bed  bath  land_size           city  \\\n",
       "16       for_sale  12.367341  4.0   4.0   890.3092       Mayaguez   \n",
       "21       for_sale  12.013701  6.0   3.0   404.6860           Moca   \n",
       "25       for_sale  12.449019  3.0   2.0  1133.1208  San Sebastian   \n",
       "26       for_sale  12.959844  4.0   3.0  1214.0580          Ponce   \n",
       "31       for_sale  12.323856  5.0   4.0   485.6232          Ponce   \n",
       "...           ...        ...  ...   ...        ...            ...   \n",
       "2226376      sold  12.736407  4.0   2.0   809.3720       Richland   \n",
       "2226377      sold  12.793581  4.0   2.0  1335.4638       Richland   \n",
       "2226378      sold  12.765688  3.0   2.0   404.6860       Richland   \n",
       "2226380      sold  12.100156  2.0   1.0   364.2174       Richland   \n",
       "2226381      sold  13.270783  5.0   3.0  1254.5266       Richland   \n",
       "\n",
       "               state  zip_code  house_size  \n",
       "16       Puerto Rico     680.0  320.515350  \n",
       "21       Puerto Rico     676.0  278.709000  \n",
       "25       Puerto Rico     685.0  139.354500  \n",
       "26       Puerto Rico     730.0  278.709000  \n",
       "31       Puerto Rico     717.0  148.644800  \n",
       "...              ...       ...         ...  \n",
       "2226376   Washington   99354.0  258.270340  \n",
       "2226377   Washington   99354.0  321.537283  \n",
       "2226378   Washington   99354.0  150.131248  \n",
       "2226380   Washington   99354.0   86.678499  \n",
       "2226381   Washington   99354.0  321.537283  \n",
       "\n",
       "[947711 rows x 9 columns]"
      ]
     },
     "execution_count": 59,
     "metadata": {},
     "output_type": "execute_result"
    }
   ],
   "source": [
    "df"
   ]
  },
  {
   "cell_type": "code",
   "execution_count": 60,
   "metadata": {},
   "outputs": [],
   "source": [
    "training_data = 937411\n",
    "test_data = training_data + 10000\n",
    "\n",
    "\n",
    "df_100k = df[:training_data]\n",
    "df_test = df[training_data:test_data]"
   ]
  },
  {
   "cell_type": "code",
   "execution_count": 83,
   "metadata": {},
   "outputs": [
    {
     "data": {
      "text/plain": [
       "(99923.0, 602.0)"
      ]
     },
     "execution_count": 83,
     "metadata": {},
     "output_type": "execute_result"
    }
   ],
   "source": [
    "states = df_100k['zip_code'].unique()\n",
    "states.max(),states.min()"
   ]
  },
  {
   "cell_type": "code",
   "execution_count": 89,
   "metadata": {},
   "outputs": [
    {
     "data": {
      "text/plain": [
       "array(['Puerto Rico', 'Virgin Islands', 'Massachusetts', 'Connecticut', 'New Jersey', 'New Hampshire', 'Vermont', 'New York', 'Rhode Island', 'Wyoming', 'Virginia', 'Maine', 'Georgia',\n",
       "       'Pennsylvania', 'Delaware', 'West Virginia', 'Ohio', 'Maryland', 'District of Columbia', 'Wisconsin', 'North Carolina', 'South Carolina', 'Kentucky', 'Tennessee', 'Mississippi', 'Alabama',\n",
       "       'Florida', 'Missouri', 'Arkansas', 'Louisiana', 'Indiana', 'Illinois', 'Michigan', 'Iowa', 'Minnesota', 'South Dakota', 'Nebraska', 'Texas', 'North Dakota', 'Montana', 'Idaho', 'Kansas',\n",
       "       'Oklahoma', 'Colorado', 'New Mexico', 'Utah', 'Nevada', 'Washington', 'Oregon', 'Arizona', 'California', 'Hawaii', 'Guam', 'Alaska'], dtype=object)"
      ]
     },
     "execution_count": 89,
     "metadata": {},
     "output_type": "execute_result"
    }
   ],
   "source": [
    "df_100k['state'].unique()"
   ]
  },
  {
   "cell_type": "code",
   "execution_count": 100,
   "metadata": {},
   "outputs": [
    {
     "data": {
      "text/html": [
       "<div>\n",
       "<style scoped>\n",
       "    .dataframe tbody tr th:only-of-type {\n",
       "        vertical-align: middle;\n",
       "    }\n",
       "\n",
       "    .dataframe tbody tr th {\n",
       "        vertical-align: top;\n",
       "    }\n",
       "\n",
       "    .dataframe thead th {\n",
       "        text-align: right;\n",
       "    }\n",
       "</style>\n",
       "<table border=\"1\" class=\"dataframe\">\n",
       "  <thead>\n",
       "    <tr style=\"text-align: right;\">\n",
       "      <th></th>\n",
       "      <th>status</th>\n",
       "      <th>price</th>\n",
       "      <th>bed</th>\n",
       "      <th>bath</th>\n",
       "      <th>land_size</th>\n",
       "      <th>city</th>\n",
       "      <th>state</th>\n",
       "      <th>zip_code</th>\n",
       "      <th>house_size</th>\n",
       "    </tr>\n",
       "  </thead>\n",
       "  <tbody>\n",
       "    <tr>\n",
       "      <th>21</th>\n",
       "      <td>for_sale</td>\n",
       "      <td>12.013701</td>\n",
       "      <td>6.0</td>\n",
       "      <td>3.0</td>\n",
       "      <td>404.6860</td>\n",
       "      <td>Moca</td>\n",
       "      <td>Puerto Rico</td>\n",
       "      <td>676.0</td>\n",
       "      <td>278.709000</td>\n",
       "    </tr>\n",
       "    <tr>\n",
       "      <th>168</th>\n",
       "      <td>for_sale</td>\n",
       "      <td>12.013701</td>\n",
       "      <td>5.0</td>\n",
       "      <td>3.0</td>\n",
       "      <td>445.1546</td>\n",
       "      <td>Anasco</td>\n",
       "      <td>Puerto Rico</td>\n",
       "      <td>610.0</td>\n",
       "      <td>216.185281</td>\n",
       "    </tr>\n",
       "    <tr>\n",
       "      <th>191</th>\n",
       "      <td>for_sale</td>\n",
       "      <td>12.095141</td>\n",
       "      <td>5.0</td>\n",
       "      <td>3.0</td>\n",
       "      <td>323.7488</td>\n",
       "      <td>Arecibo</td>\n",
       "      <td>Puerto Rico</td>\n",
       "      <td>612.0</td>\n",
       "      <td>204.386600</td>\n",
       "    </tr>\n",
       "    <tr>\n",
       "      <th>203</th>\n",
       "      <td>for_sale</td>\n",
       "      <td>12.031719</td>\n",
       "      <td>4.0</td>\n",
       "      <td>3.0</td>\n",
       "      <td>1011.7150</td>\n",
       "      <td>Arecibo</td>\n",
       "      <td>Puerto Rico</td>\n",
       "      <td>612.0</td>\n",
       "      <td>148.644800</td>\n",
       "    </tr>\n",
       "    <tr>\n",
       "      <th>223</th>\n",
       "      <td>for_sale</td>\n",
       "      <td>12.071970</td>\n",
       "      <td>3.0</td>\n",
       "      <td>2.0</td>\n",
       "      <td>323.7488</td>\n",
       "      <td>Barceloneta</td>\n",
       "      <td>Puerto Rico</td>\n",
       "      <td>617.0</td>\n",
       "      <td>111.019085</td>\n",
       "    </tr>\n",
       "    <tr>\n",
       "      <th>...</th>\n",
       "      <td>...</td>\n",
       "      <td>...</td>\n",
       "      <td>...</td>\n",
       "      <td>...</td>\n",
       "      <td>...</td>\n",
       "      <td>...</td>\n",
       "      <td>...</td>\n",
       "      <td>...</td>\n",
       "      <td>...</td>\n",
       "    </tr>\n",
       "    <tr>\n",
       "      <th>2208668</th>\n",
       "      <td>sold</td>\n",
       "      <td>12.095141</td>\n",
       "      <td>3.0</td>\n",
       "      <td>2.0</td>\n",
       "      <td>849.8406</td>\n",
       "      <td>Port Ludlow</td>\n",
       "      <td>Washington</td>\n",
       "      <td>98365.0</td>\n",
       "      <td>158.028003</td>\n",
       "    </tr>\n",
       "    <tr>\n",
       "      <th>2208730</th>\n",
       "      <td>sold</td>\n",
       "      <td>12.095141</td>\n",
       "      <td>2.0</td>\n",
       "      <td>2.0</td>\n",
       "      <td>1052.1836</td>\n",
       "      <td>Puyallup</td>\n",
       "      <td>Washington</td>\n",
       "      <td>98372.0</td>\n",
       "      <td>140.469336</td>\n",
       "    </tr>\n",
       "    <tr>\n",
       "      <th>2208746</th>\n",
       "      <td>sold</td>\n",
       "      <td>12.013701</td>\n",
       "      <td>2.0</td>\n",
       "      <td>1.0</td>\n",
       "      <td>445.1546</td>\n",
       "      <td>Puyallup</td>\n",
       "      <td>Washington</td>\n",
       "      <td>98375.0</td>\n",
       "      <td>74.322400</td>\n",
       "    </tr>\n",
       "    <tr>\n",
       "      <th>2209382</th>\n",
       "      <td>sold</td>\n",
       "      <td>12.042965</td>\n",
       "      <td>3.0</td>\n",
       "      <td>2.0</td>\n",
       "      <td>1052.1836</td>\n",
       "      <td>Port Orchard</td>\n",
       "      <td>Washington</td>\n",
       "      <td>98367.0</td>\n",
       "      <td>98.105568</td>\n",
       "    </tr>\n",
       "    <tr>\n",
       "      <th>2209459</th>\n",
       "      <td>sold</td>\n",
       "      <td>12.072541</td>\n",
       "      <td>2.0</td>\n",
       "      <td>2.0</td>\n",
       "      <td>1052.1836</td>\n",
       "      <td>Poulsbo</td>\n",
       "      <td>Washington</td>\n",
       "      <td>98370.0</td>\n",
       "      <td>140.469336</td>\n",
       "    </tr>\n",
       "  </tbody>\n",
       "</table>\n",
       "<p>33823 rows × 9 columns</p>\n",
       "</div>"
      ],
      "text/plain": [
       "           status      price  bed  bath  land_size          city        state  \\\n",
       "21       for_sale  12.013701  6.0   3.0   404.6860          Moca  Puerto Rico   \n",
       "168      for_sale  12.013701  5.0   3.0   445.1546        Anasco  Puerto Rico   \n",
       "191      for_sale  12.095141  5.0   3.0   323.7488       Arecibo  Puerto Rico   \n",
       "203      for_sale  12.031719  4.0   3.0  1011.7150       Arecibo  Puerto Rico   \n",
       "223      for_sale  12.071970  3.0   2.0   323.7488   Barceloneta  Puerto Rico   \n",
       "...           ...        ...  ...   ...        ...           ...          ...   \n",
       "2208668      sold  12.095141  3.0   2.0   849.8406   Port Ludlow   Washington   \n",
       "2208730      sold  12.095141  2.0   2.0  1052.1836      Puyallup   Washington   \n",
       "2208746      sold  12.013701  2.0   1.0   445.1546      Puyallup   Washington   \n",
       "2209382      sold  12.042965  3.0   2.0  1052.1836  Port Orchard   Washington   \n",
       "2209459      sold  12.072541  2.0   2.0  1052.1836       Poulsbo   Washington   \n",
       "\n",
       "         zip_code  house_size  \n",
       "21          676.0  278.709000  \n",
       "168         610.0  216.185281  \n",
       "191         612.0  204.386600  \n",
       "203         612.0  148.644800  \n",
       "223         617.0  111.019085  \n",
       "...           ...         ...  \n",
       "2208668   98365.0  158.028003  \n",
       "2208730   98372.0  140.469336  \n",
       "2208746   98375.0   74.322400  \n",
       "2209382   98367.0   98.105568  \n",
       "2209459   98370.0  140.469336  \n",
       "\n",
       "[33823 rows x 9 columns]"
      ]
     },
     "execution_count": 100,
     "metadata": {},
     "output_type": "execute_result"
    }
   ],
   "source": [
    "df_100k[df_100k['price'] < 12.1]"
   ]
  },
  {
   "cell_type": "code",
   "execution_count": null,
   "metadata": {},
   "outputs": [],
   "source": [
    "cities = ['Mayaguez', 'Moca', 'San Sebastian''Agawam', 'Amherst', 'Buckland',\n",
    "          'Montague', 'Blytheville', 'Gosnell', 'West Memphis', 'Marion', 'Horseshoe Lake']"
   ]
  },
  {
   "cell_type": "code",
   "execution_count": 842,
   "metadata": {},
   "outputs": [
    {
     "data": {
      "text/plain": [
       "<Axes: >"
      ]
     },
     "execution_count": 842,
     "metadata": {},
     "output_type": "execute_result"
    },
    {
     "data": {
      "image/png": "[encoded data removed]",
      "text/plain": [
       "<Figure size 1000x600 with 1 Axes>"
      ]
     },
     "metadata": {
      "needs_background": "light"
     },
     "output_type": "display_data"
    }
   ],
   "source": [
    "df_100k[dep_var].hist()"
   ]
  },
  {
   "cell_type": "markdown",
   "metadata": {},
   "source": [
    "## Splitting the Data into 70%, 30% "
   ]
  },
  {
   "cell_type": "code",
   "execution_count": 843,
   "metadata": {},
   "outputs": [],
   "source": [
    "splits = RandomSplitter(valid_pct=0.3,seed=42)(df_100k)"
   ]
  },
  {
   "cell_type": "code",
   "execution_count": 844,
   "metadata": {},
   "outputs": [
    {
     "data": {
      "text/plain": [
       "(656188, 281223, 937411)"
      ]
     },
     "execution_count": 844,
     "metadata": {},
     "output_type": "execute_result"
    }
   ],
   "source": [
    "len(splits[0]),len(splits[1]),len(df_100k)"
   ]
  },
  {
   "cell_type": "markdown",
   "metadata": {},
   "source": [
    "## Proceesing the data "
   ]
  },
  {
   "cell_type": "code",
   "execution_count": 845,
   "metadata": {},
   "outputs": [],
   "source": [
    "procs = [Categorify,FillMissing]"
   ]
  },
  {
   "cell_type": "code",
   "execution_count": 846,
   "metadata": {},
   "outputs": [],
   "source": [
    "cont, cat = cont_cat_split(df,1,dep_var=dep_var)"
   ]
  },
  {
   "cell_type": "code",
   "execution_count": 847,
   "metadata": {},
   "outputs": [
    {
     "data": {
      "text/plain": [
       "['bed', 'bath', 'land_size', 'zip_code', 'house_size']"
      ]
     },
     "execution_count": 847,
     "metadata": {},
     "output_type": "execute_result"
    }
   ],
   "source": [
    "cont"
   ]
  },
  {
   "cell_type": "code",
   "execution_count": 848,
   "metadata": {},
   "outputs": [
    {
     "data": {
      "text/plain": [
       "['status', 'city', 'state']"
      ]
     },
     "execution_count": 848,
     "metadata": {},
     "output_type": "execute_result"
    }
   ],
   "source": [
    "cat"
   ]
  },
  {
   "cell_type": "code",
   "execution_count": 849,
   "metadata": {},
   "outputs": [],
   "source": [
    "to = TabularPandas(df_100k, procs,cat, cont,y_names=dep_var,splits=splits)"
   ]
  },
  {
   "cell_type": "code",
   "execution_count": 850,
   "metadata": {},
   "outputs": [
    {
     "data": {
      "text/html": [
       "<div>\n",
       "<style scoped>\n",
       "    .dataframe tbody tr th:only-of-type {\n",
       "        vertical-align: middle;\n",
       "    }\n",
       "\n",
       "    .dataframe tbody tr th {\n",
       "        vertical-align: top;\n",
       "    }\n",
       "\n",
       "    .dataframe thead th {\n",
       "        text-align: right;\n",
       "    }\n",
       "</style>\n",
       "<table border=\"1\" class=\"dataframe\">\n",
       "  <thead>\n",
       "    <tr style=\"text-align: right;\">\n",
       "      <th></th>\n",
       "      <th>status</th>\n",
       "      <th>price</th>\n",
       "      <th>bed</th>\n",
       "      <th>bath</th>\n",
       "      <th>land_size</th>\n",
       "      <th>city</th>\n",
       "      <th>state</th>\n",
       "      <th>zip_code</th>\n",
       "      <th>house_size</th>\n",
       "    </tr>\n",
       "  </thead>\n",
       "  <tbody>\n",
       "    <tr>\n",
       "      <th>16</th>\n",
       "      <td>for_sale</td>\n",
       "      <td>12.367341</td>\n",
       "      <td>4.0</td>\n",
       "      <td>4.0</td>\n",
       "      <td>890.3092</td>\n",
       "      <td>Mayaguez</td>\n",
       "      <td>Puerto Rico</td>\n",
       "      <td>680.0</td>\n",
       "      <td>320.515350</td>\n",
       "    </tr>\n",
       "    <tr>\n",
       "      <th>21</th>\n",
       "      <td>for_sale</td>\n",
       "      <td>12.013701</td>\n",
       "      <td>6.0</td>\n",
       "      <td>3.0</td>\n",
       "      <td>404.6860</td>\n",
       "      <td>Moca</td>\n",
       "      <td>Puerto Rico</td>\n",
       "      <td>676.0</td>\n",
       "      <td>278.709000</td>\n",
       "    </tr>\n",
       "    <tr>\n",
       "      <th>25</th>\n",
       "      <td>for_sale</td>\n",
       "      <td>12.449019</td>\n",
       "      <td>3.0</td>\n",
       "      <td>2.0</td>\n",
       "      <td>1133.1208</td>\n",
       "      <td>San Sebastian</td>\n",
       "      <td>Puerto Rico</td>\n",
       "      <td>685.0</td>\n",
       "      <td>139.354500</td>\n",
       "    </tr>\n",
       "    <tr>\n",
       "      <th>26</th>\n",
       "      <td>for_sale</td>\n",
       "      <td>12.959844</td>\n",
       "      <td>4.0</td>\n",
       "      <td>3.0</td>\n",
       "      <td>1214.0580</td>\n",
       "      <td>Ponce</td>\n",
       "      <td>Puerto Rico</td>\n",
       "      <td>730.0</td>\n",
       "      <td>278.709000</td>\n",
       "    </tr>\n",
       "    <tr>\n",
       "      <th>31</th>\n",
       "      <td>for_sale</td>\n",
       "      <td>12.323856</td>\n",
       "      <td>5.0</td>\n",
       "      <td>4.0</td>\n",
       "      <td>485.6232</td>\n",
       "      <td>Ponce</td>\n",
       "      <td>Puerto Rico</td>\n",
       "      <td>717.0</td>\n",
       "      <td>148.644800</td>\n",
       "    </tr>\n",
       "    <tr>\n",
       "      <th>...</th>\n",
       "      <td>...</td>\n",
       "      <td>...</td>\n",
       "      <td>...</td>\n",
       "      <td>...</td>\n",
       "      <td>...</td>\n",
       "      <td>...</td>\n",
       "      <td>...</td>\n",
       "      <td>...</td>\n",
       "      <td>...</td>\n",
       "    </tr>\n",
       "    <tr>\n",
       "      <th>2209598</th>\n",
       "      <td>sold</td>\n",
       "      <td>12.905182</td>\n",
       "      <td>3.0</td>\n",
       "      <td>2.0</td>\n",
       "      <td>404.6860</td>\n",
       "      <td>Port Orchard</td>\n",
       "      <td>Washington</td>\n",
       "      <td>98367.0</td>\n",
       "      <td>136.567410</td>\n",
       "    </tr>\n",
       "    <tr>\n",
       "      <th>2209602</th>\n",
       "      <td>sold</td>\n",
       "      <td>13.049793</td>\n",
       "      <td>4.0</td>\n",
       "      <td>3.0</td>\n",
       "      <td>323.7488</td>\n",
       "      <td>Port Orchard</td>\n",
       "      <td>Washington</td>\n",
       "      <td>98366.0</td>\n",
       "      <td>198.998226</td>\n",
       "    </tr>\n",
       "    <tr>\n",
       "      <th>2209606</th>\n",
       "      <td>sold</td>\n",
       "      <td>13.514091</td>\n",
       "      <td>4.0</td>\n",
       "      <td>3.0</td>\n",
       "      <td>1456.8696</td>\n",
       "      <td>Allyn</td>\n",
       "      <td>Washington</td>\n",
       "      <td>98524.0</td>\n",
       "      <td>237.924583</td>\n",
       "    </tr>\n",
       "    <tr>\n",
       "      <th>2209607</th>\n",
       "      <td>sold</td>\n",
       "      <td>12.847663</td>\n",
       "      <td>3.0</td>\n",
       "      <td>2.0</td>\n",
       "      <td>890.3092</td>\n",
       "      <td>Bremerton</td>\n",
       "      <td>Washington</td>\n",
       "      <td>98312.0</td>\n",
       "      <td>120.402288</td>\n",
       "    </tr>\n",
       "    <tr>\n",
       "      <th>2209608</th>\n",
       "      <td>sold</td>\n",
       "      <td>12.577636</td>\n",
       "      <td>1.0</td>\n",
       "      <td>1.0</td>\n",
       "      <td>890.3092</td>\n",
       "      <td>Bremerton</td>\n",
       "      <td>Washington</td>\n",
       "      <td>98310.0</td>\n",
       "      <td>75.623042</td>\n",
       "    </tr>\n",
       "  </tbody>\n",
       "</table>\n",
       "<p>937411 rows × 9 columns</p>\n",
       "</div>"
      ],
      "text/plain": [
       "           status      price  bed  bath  land_size           city  \\\n",
       "16       for_sale  12.367341  4.0   4.0   890.3092       Mayaguez   \n",
       "21       for_sale  12.013701  6.0   3.0   404.6860           Moca   \n",
       "25       for_sale  12.449019  3.0   2.0  1133.1208  San Sebastian   \n",
       "26       for_sale  12.959844  4.0   3.0  1214.0580          Ponce   \n",
       "31       for_sale  12.323856  5.0   4.0   485.6232          Ponce   \n",
       "...           ...        ...  ...   ...        ...            ...   \n",
       "2209598      sold  12.905182  3.0   2.0   404.6860   Port Orchard   \n",
       "2209602      sold  13.049793  4.0   3.0   323.7488   Port Orchard   \n",
       "2209606      sold  13.514091  4.0   3.0  1456.8696          Allyn   \n",
       "2209607      sold  12.847663  3.0   2.0   890.3092      Bremerton   \n",
       "2209608      sold  12.577636  1.0   1.0   890.3092      Bremerton   \n",
       "\n",
       "               state  zip_code  house_size  \n",
       "16       Puerto Rico     680.0  320.515350  \n",
       "21       Puerto Rico     676.0  278.709000  \n",
       "25       Puerto Rico     685.0  139.354500  \n",
       "26       Puerto Rico     730.0  278.709000  \n",
       "31       Puerto Rico     717.0  148.644800  \n",
       "...              ...       ...         ...  \n",
       "2209598   Washington   98367.0  136.567410  \n",
       "2209602   Washington   98366.0  198.998226  \n",
       "2209606   Washington   98524.0  237.924583  \n",
       "2209607   Washington   98312.0  120.402288  \n",
       "2209608   Washington   98310.0   75.623042  \n",
       "\n",
       "[937411 rows x 9 columns]"
      ]
     },
     "execution_count": 850,
     "metadata": {},
     "output_type": "execute_result"
    }
   ],
   "source": [
    "df_100k"
   ]
  },
  {
   "cell_type": "markdown",
   "metadata": {},
   "source": [
    "# CheckPoint\n",
    "\n",
    "save what you have made, it's good to save your results from time to time\n"
   ]
  },
  {
   "cell_type": "code",
   "execution_count": 851,
   "metadata": {},
   "outputs": [],
   "source": [
    "save_pickle('./to_house.pkl',to)"
   ]
  },
  {
   "cell_type": "markdown",
   "metadata": {},
   "source": [
    "### Create a Decision Tree"
   ]
  },
  {
   "cell_type": "code",
   "execution_count": 852,
   "metadata": {},
   "outputs": [],
   "source": [
    "to = load_pickle('./to_house.pkl')"
   ]
  },
  {
   "cell_type": "markdown",
   "metadata": {},
   "source": [
    "extract the training and validation sets"
   ]
  },
  {
   "cell_type": "code",
   "execution_count": 853,
   "metadata": {},
   "outputs": [],
   "source": [
    "xs, y = to.train.xs, to.train.y\n",
    "valid_xs, valid_y = to.valid.xs, to.valid.y "
   ]
  },
  {
   "cell_type": "code",
   "execution_count": 854,
   "metadata": {},
   "outputs": [
    {
     "data": {
      "text/html": [
       "<div>\n",
       "<style scoped>\n",
       "    .dataframe tbody tr th:only-of-type {\n",
       "        vertical-align: middle;\n",
       "    }\n",
       "\n",
       "    .dataframe tbody tr th {\n",
       "        vertical-align: top;\n",
       "    }\n",
       "\n",
       "    .dataframe thead th {\n",
       "        text-align: right;\n",
       "    }\n",
       "</style>\n",
       "<table border=\"1\" class=\"dataframe\">\n",
       "  <thead>\n",
       "    <tr style=\"text-align: right;\">\n",
       "      <th></th>\n",
       "      <th>status</th>\n",
       "      <th>city</th>\n",
       "      <th>state</th>\n",
       "      <th>bed</th>\n",
       "      <th>bath</th>\n",
       "      <th>land_size</th>\n",
       "      <th>zip_code</th>\n",
       "      <th>house_size</th>\n",
       "    </tr>\n",
       "  </thead>\n",
       "  <tbody>\n",
       "    <tr>\n",
       "      <th>100085</th>\n",
       "      <td>1</td>\n",
       "      <td>6200</td>\n",
       "      <td>32</td>\n",
       "      <td>2.0</td>\n",
       "      <td>2.0</td>\n",
       "      <td>971.246399</td>\n",
       "      <td>8330.0</td>\n",
       "      <td>173.728607</td>\n",
       "    </tr>\n",
       "    <tr>\n",
       "      <th>1375997</th>\n",
       "      <td>1</td>\n",
       "      <td>10423</td>\n",
       "      <td>51</td>\n",
       "      <td>4.0</td>\n",
       "      <td>3.0</td>\n",
       "      <td>283.280212</td>\n",
       "      <td>98661.0</td>\n",
       "      <td>203.271759</td>\n",
       "    </tr>\n",
       "    <tr>\n",
       "      <th>2081960</th>\n",
       "      <td>3</td>\n",
       "      <td>4406</td>\n",
       "      <td>5</td>\n",
       "      <td>3.0</td>\n",
       "      <td>2.0</td>\n",
       "      <td>526.091797</td>\n",
       "      <td>92344.0</td>\n",
       "      <td>107.674576</td>\n",
       "    </tr>\n",
       "    <tr>\n",
       "      <th>1134990</th>\n",
       "      <td>1</td>\n",
       "      <td>2955</td>\n",
       "      <td>46</td>\n",
       "      <td>4.0</td>\n",
       "      <td>4.0</td>\n",
       "      <td>930.777771</td>\n",
       "      <td>79932.0</td>\n",
       "      <td>267.374847</td>\n",
       "    </tr>\n",
       "    <tr>\n",
       "      <th>1899828</th>\n",
       "      <td>3</td>\n",
       "      <td>2925</td>\n",
       "      <td>38</td>\n",
       "      <td>3.0</td>\n",
       "      <td>4.0</td>\n",
       "      <td>1052.183594</td>\n",
       "      <td>73013.0</td>\n",
       "      <td>292.458649</td>\n",
       "    </tr>\n",
       "    <tr>\n",
       "      <th>...</th>\n",
       "      <td>...</td>\n",
       "      <td>...</td>\n",
       "      <td>...</td>\n",
       "      <td>...</td>\n",
       "      <td>...</td>\n",
       "      <td>...</td>\n",
       "      <td>...</td>\n",
       "      <td>...</td>\n",
       "    </tr>\n",
       "    <tr>\n",
       "      <th>2165427</th>\n",
       "      <td>3</td>\n",
       "      <td>8821</td>\n",
       "      <td>5</td>\n",
       "      <td>4.0</td>\n",
       "      <td>2.0</td>\n",
       "      <td>890.309204</td>\n",
       "      <td>95820.0</td>\n",
       "      <td>168.247330</td>\n",
       "    </tr>\n",
       "    <tr>\n",
       "      <th>1856793</th>\n",
       "      <td>3</td>\n",
       "      <td>7140</td>\n",
       "      <td>15</td>\n",
       "      <td>4.0</td>\n",
       "      <td>2.0</td>\n",
       "      <td>445.154602</td>\n",
       "      <td>60706.0</td>\n",
       "      <td>130.064194</td>\n",
       "    </tr>\n",
       "    <tr>\n",
       "      <th>1897659</th>\n",
       "      <td>3</td>\n",
       "      <td>732</td>\n",
       "      <td>4</td>\n",
       "      <td>2.0</td>\n",
       "      <td>2.0</td>\n",
       "      <td>768.903381</td>\n",
       "      <td>72712.0</td>\n",
       "      <td>117.801003</td>\n",
       "    </tr>\n",
       "    <tr>\n",
       "      <th>1943697</th>\n",
       "      <td>3</td>\n",
       "      <td>3480</td>\n",
       "      <td>46</td>\n",
       "      <td>2.0</td>\n",
       "      <td>1.0</td>\n",
       "      <td>849.840576</td>\n",
       "      <td>76108.0</td>\n",
       "      <td>104.608780</td>\n",
       "    </tr>\n",
       "    <tr>\n",
       "      <th>1905814</th>\n",
       "      <td>3</td>\n",
       "      <td>7420</td>\n",
       "      <td>38</td>\n",
       "      <td>3.0</td>\n",
       "      <td>1.0</td>\n",
       "      <td>647.497620</td>\n",
       "      <td>73120.0</td>\n",
       "      <td>114.735207</td>\n",
       "    </tr>\n",
       "  </tbody>\n",
       "</table>\n",
       "<p>281223 rows × 8 columns</p>\n",
       "</div>"
      ],
      "text/plain": [
       "         status   city  state  bed  bath    land_size  zip_code  house_size\n",
       "100085        1   6200     32  2.0   2.0   971.246399    8330.0  173.728607\n",
       "1375997       1  10423     51  4.0   3.0   283.280212   98661.0  203.271759\n",
       "2081960       3   4406      5  3.0   2.0   526.091797   92344.0  107.674576\n",
       "1134990       1   2955     46  4.0   4.0   930.777771   79932.0  267.374847\n",
       "1899828       3   2925     38  3.0   4.0  1052.183594   73013.0  292.458649\n",
       "...         ...    ...    ...  ...   ...          ...       ...         ...\n",
       "2165427       3   8821      5  4.0   2.0   890.309204   95820.0  168.247330\n",
       "1856793       3   7140     15  4.0   2.0   445.154602   60706.0  130.064194\n",
       "1897659       3    732      4  2.0   2.0   768.903381   72712.0  117.801003\n",
       "1943697       3   3480     46  2.0   1.0   849.840576   76108.0  104.608780\n",
       "1905814       3   7420     38  3.0   1.0   647.497620   73120.0  114.735207\n",
       "\n",
       "[281223 rows x 8 columns]"
      ]
     },
     "execution_count": 854,
     "metadata": {},
     "output_type": "execute_result"
    }
   ],
   "source": [
    "valid_xs"
   ]
  },
  {
   "cell_type": "code",
   "execution_count": 855,
   "metadata": {},
   "outputs": [
    {
     "data": {
      "text/plain": [
       "100085     12.926377\n",
       "1375997    13.170963\n",
       "2081960    12.691581\n",
       "1134990    13.303017\n",
       "1899828    12.863593\n",
       "             ...    \n",
       "2165427    13.079456\n",
       "1856793    12.992254\n",
       "1897659    13.171153\n",
       "1943697    12.323855\n",
       "1905814    12.100157\n",
       "Name: price, Length: 281223, dtype: float32"
      ]
     },
     "execution_count": 855,
     "metadata": {},
     "output_type": "execute_result"
    }
   ],
   "source": [
    "valid_y"
   ]
  },
  {
   "cell_type": "code",
   "execution_count": 856,
   "metadata": {},
   "outputs": [],
   "source": [
    "from sklearn.tree import DecisionTreeRegressor"
   ]
  },
  {
   "cell_type": "code",
   "execution_count": 857,
   "metadata": {},
   "outputs": [
    {
     "data": {
      "text/html": [
       "<style>#sk-container-id-10 {\n",
       "  /* Definition of color scheme common for light and dark mode */\n",
       "  --sklearn-color-text: #000;\n",
       "  --sklearn-color-text-muted: #666;\n",
       "  --sklearn-color-line: gray;\n",
       "  /* Definition of color scheme for unfitted estimators */\n",
       "  --sklearn-color-unfitted-level-0: #fff5e6;\n",
       "  --sklearn-color-unfitted-level-1: #f6e4d2;\n",
       "  --sklearn-color-unfitted-level-2: #ffe0b3;\n",
       "  --sklearn-color-unfitted-level-3: chocolate;\n",
       "  /* Definition of color scheme for fitted estimators */\n",
       "  --sklearn-color-fitted-level-0: #f0f8ff;\n",
       "  --sklearn-color-fitted-level-1: #d4ebff;\n",
       "  --sklearn-color-fitted-level-2: #b3dbfd;\n",
       "  --sklearn-color-fitted-level-3: cornflowerblue;\n",
       "\n",
       "  /* Specific color for light theme */\n",
       "  --sklearn-color-text-on-default-background: var(--sg-text-color, var(--theme-code-foreground, var(--jp-content-font-color1, black)));\n",
       "  --sklearn-color-background: var(--sg-background-color, var(--theme-background, var(--jp-layout-color0, white)));\n",
       "  --sklearn-color-border-box: var(--sg-text-color, var(--theme-code-foreground, var(--jp-content-font-color1, black)));\n",
       "  --sklearn-color-icon: #696969;\n",
       "\n",
       "  @media (prefers-color-scheme: dark) {\n",
       "    /* Redefinition of color scheme for dark theme */\n",
       "    --sklearn-color-text-on-default-background: var(--sg-text-color, var(--theme-code-foreground, var(--jp-content-font-color1, white)));\n",
       "    --sklearn-color-background: var(--sg-background-color, var(--theme-background, var(--jp-layout-color0, #111)));\n",
       "    --sklearn-color-border-box: var(--sg-text-color, var(--theme-code-foreground, var(--jp-content-font-color1, white)));\n",
       "    --sklearn-color-icon: #878787;\n",
       "  }\n",
       "}\n",
       "\n",
       "#sk-container-id-10 {\n",
       "  color: var(--sklearn-color-text);\n",
       "}\n",
       "\n",
       "#sk-container-id-10 pre {\n",
       "  padding: 0;\n",
       "}\n",
       "\n",
       "#sk-container-id-10 input.sk-hidden--visually {\n",
       "  border: 0;\n",
       "  clip: rect(1px 1px 1px 1px);\n",
       "  clip: rect(1px, 1px, 1px, 1px);\n",
       "  height: 1px;\n",
       "  margin: -1px;\n",
       "  overflow: hidden;\n",
       "  padding: 0;\n",
       "  position: absolute;\n",
       "  width: 1px;\n",
       "}\n",
       "\n",
       "#sk-container-id-10 div.sk-dashed-wrapped {\n",
       "  border: 1px dashed var(--sklearn-color-line);\n",
       "  margin: 0 0.4em 0.5em 0.4em;\n",
       "  box-sizing: border-box;\n",
       "  padding-bottom: 0.4em;\n",
       "  background-color: var(--sklearn-color-background);\n",
       "}\n",
       "\n",
       "#sk-container-id-10 div.sk-container {\n",
       "  /* jupyter's `normalize.less` sets `[hidden] { display: none; }`\n",
       "     but bootstrap.min.css set `[hidden] { display: none !important; }`\n",
       "     so we also need the `!important` here to be able to override the\n",
       "     default hidden behavior on the sphinx rendered scikit-learn.org.\n",
       "     See: https://github.com/scikit-learn/scikit-learn/issues/21755 */\n",
       "  display: inline-block !important;\n",
       "  position: relative;\n",
       "}\n",
       "\n",
       "#sk-container-id-10 div.sk-text-repr-fallback {\n",
       "  display: none;\n",
       "}\n",
       "\n",
       "div.sk-parallel-item,\n",
       "div.sk-serial,\n",
       "div.sk-item {\n",
       "  /* draw centered vertical line to link estimators */\n",
       "  background-image: linear-gradient(var(--sklearn-color-text-on-default-background), var(--sklearn-color-text-on-default-background));\n",
       "  background-size: 2px 100%;\n",
       "  background-repeat: no-repeat;\n",
       "  background-position: center center;\n",
       "}\n",
       "\n",
       "/* Parallel-specific style estimator block */\n",
       "\n",
       "#sk-container-id-10 div.sk-parallel-item::after {\n",
       "  content: \"\";\n",
       "  width: 100%;\n",
       "  border-bottom: 2px solid var(--sklearn-color-text-on-default-background);\n",
       "  flex-grow: 1;\n",
       "}\n",
       "\n",
       "#sk-container-id-10 div.sk-parallel {\n",
       "  display: flex;\n",
       "  align-items: stretch;\n",
       "  justify-content: center;\n",
       "  background-color: var(--sklearn-color-background);\n",
       "  position: relative;\n",
       "}\n",
       "\n",
       "#sk-container-id-10 div.sk-parallel-item {\n",
       "  display: flex;\n",
       "  flex-direction: column;\n",
       "}\n",
       "\n",
       "#sk-container-id-10 div.sk-parallel-item:first-child::after {\n",
       "  align-self: flex-end;\n",
       "  width: 50%;\n",
       "}\n",
       "\n",
       "#sk-container-id-10 div.sk-parallel-item:last-child::after {\n",
       "  align-self: flex-start;\n",
       "  width: 50%;\n",
       "}\n",
       "\n",
       "#sk-container-id-10 div.sk-parallel-item:only-child::after {\n",
       "  width: 0;\n",
       "}\n",
       "\n",
       "/* Serial-specific style estimator block */\n",
       "\n",
       "#sk-container-id-10 div.sk-serial {\n",
       "  display: flex;\n",
       "  flex-direction: column;\n",
       "  align-items: center;\n",
       "  background-color: var(--sklearn-color-background);\n",
       "  padding-right: 1em;\n",
       "  padding-left: 1em;\n",
       "}\n",
       "\n",
       "\n",
       "/* Toggleable style: style used for estimator/Pipeline/ColumnTransformer box that is\n",
       "clickable and can be expanded/collapsed.\n",
       "- Pipeline and ColumnTransformer use this feature and define the default style\n",
       "- Estimators will overwrite some part of the style using the `sk-estimator` class\n",
       "*/\n",
       "\n",
       "/* Pipeline and ColumnTransformer style (default) */\n",
       "\n",
       "#sk-container-id-10 div.sk-toggleable {\n",
       "  /* Default theme specific background. It is overwritten whether we have a\n",
       "  specific estimator or a Pipeline/ColumnTransformer */\n",
       "  background-color: var(--sklearn-color-background);\n",
       "}\n",
       "\n",
       "/* Toggleable label */\n",
       "#sk-container-id-10 label.sk-toggleable__label {\n",
       "  cursor: pointer;\n",
       "  display: flex;\n",
       "  width: 100%;\n",
       "  margin-bottom: 0;\n",
       "  padding: 0.5em;\n",
       "  box-sizing: border-box;\n",
       "  text-align: center;\n",
       "  align-items: start;\n",
       "  justify-content: space-between;\n",
       "  gap: 0.5em;\n",
       "}\n",
       "\n",
       "#sk-container-id-10 label.sk-toggleable__label .caption {\n",
       "  font-size: 0.6rem;\n",
       "  font-weight: lighter;\n",
       "  color: var(--sklearn-color-text-muted);\n",
       "}\n",
       "\n",
       "#sk-container-id-10 label.sk-toggleable__label-arrow:before {\n",
       "  /* Arrow on the left of the label */\n",
       "  content: \"▸\";\n",
       "  float: left;\n",
       "  margin-right: 0.25em;\n",
       "  color: var(--sklearn-color-icon);\n",
       "}\n",
       "\n",
       "#sk-container-id-10 label.sk-toggleable__label-arrow:hover:before {\n",
       "  color: var(--sklearn-color-text);\n",
       "}\n",
       "\n",
       "/* Toggleable content - dropdown */\n",
       "\n",
       "#sk-container-id-10 div.sk-toggleable__content {\n",
       "  max-height: 0;\n",
       "  max-width: 0;\n",
       "  overflow: hidden;\n",
       "  text-align: left;\n",
       "  /* unfitted */\n",
       "  background-color: var(--sklearn-color-unfitted-level-0);\n",
       "}\n",
       "\n",
       "#sk-container-id-10 div.sk-toggleable__content.fitted {\n",
       "  /* fitted */\n",
       "  background-color: var(--sklearn-color-fitted-level-0);\n",
       "}\n",
       "\n",
       "#sk-container-id-10 div.sk-toggleable__content pre {\n",
       "  margin: 0.2em;\n",
       "  border-radius: 0.25em;\n",
       "  color: var(--sklearn-color-text);\n",
       "  /* unfitted */\n",
       "  background-color: var(--sklearn-color-unfitted-level-0);\n",
       "}\n",
       "\n",
       "#sk-container-id-10 div.sk-toggleable__content.fitted pre {\n",
       "  /* unfitted */\n",
       "  background-color: var(--sklearn-color-fitted-level-0);\n",
       "}\n",
       "\n",
       "#sk-container-id-10 input.sk-toggleable__control:checked~div.sk-toggleable__content {\n",
       "  /* Expand drop-down */\n",
       "  max-height: 200px;\n",
       "  max-width: 100%;\n",
       "  overflow: auto;\n",
       "}\n",
       "\n",
       "#sk-container-id-10 input.sk-toggleable__control:checked~label.sk-toggleable__label-arrow:before {\n",
       "  content: \"▾\";\n",
       "}\n",
       "\n",
       "/* Pipeline/ColumnTransformer-specific style */\n",
       "\n",
       "#sk-container-id-10 div.sk-label input.sk-toggleable__control:checked~label.sk-toggleable__label {\n",
       "  color: var(--sklearn-color-text);\n",
       "  background-color: var(--sklearn-color-unfitted-level-2);\n",
       "}\n",
       "\n",
       "#sk-container-id-10 div.sk-label.fitted input.sk-toggleable__control:checked~label.sk-toggleable__label {\n",
       "  background-color: var(--sklearn-color-fitted-level-2);\n",
       "}\n",
       "\n",
       "/* Estimator-specific style */\n",
       "\n",
       "/* Colorize estimator box */\n",
       "#sk-container-id-10 div.sk-estimator input.sk-toggleable__control:checked~label.sk-toggleable__label {\n",
       "  /* unfitted */\n",
       "  background-color: var(--sklearn-color-unfitted-level-2);\n",
       "}\n",
       "\n",
       "#sk-container-id-10 div.sk-estimator.fitted input.sk-toggleable__control:checked~label.sk-toggleable__label {\n",
       "  /* fitted */\n",
       "  background-color: var(--sklearn-color-fitted-level-2);\n",
       "}\n",
       "\n",
       "#sk-container-id-10 div.sk-label label.sk-toggleable__label,\n",
       "#sk-container-id-10 div.sk-label label {\n",
       "  /* The background is the default theme color */\n",
       "  color: var(--sklearn-color-text-on-default-background);\n",
       "}\n",
       "\n",
       "/* On hover, darken the color of the background */\n",
       "#sk-container-id-10 div.sk-label:hover label.sk-toggleable__label {\n",
       "  color: var(--sklearn-color-text);\n",
       "  background-color: var(--sklearn-color-unfitted-level-2);\n",
       "}\n",
       "\n",
       "/* Label box, darken color on hover, fitted */\n",
       "#sk-container-id-10 div.sk-label.fitted:hover label.sk-toggleable__label.fitted {\n",
       "  color: var(--sklearn-color-text);\n",
       "  background-color: var(--sklearn-color-fitted-level-2);\n",
       "}\n",
       "\n",
       "/* Estimator label */\n",
       "\n",
       "#sk-container-id-10 div.sk-label label {\n",
       "  font-family: monospace;\n",
       "  font-weight: bold;\n",
       "  display: inline-block;\n",
       "  line-height: 1.2em;\n",
       "}\n",
       "\n",
       "#sk-container-id-10 div.sk-label-container {\n",
       "  text-align: center;\n",
       "}\n",
       "\n",
       "/* Estimator-specific */\n",
       "#sk-container-id-10 div.sk-estimator {\n",
       "  font-family: monospace;\n",
       "  border: 1px dotted var(--sklearn-color-border-box);\n",
       "  border-radius: 0.25em;\n",
       "  box-sizing: border-box;\n",
       "  margin-bottom: 0.5em;\n",
       "  /* unfitted */\n",
       "  background-color: var(--sklearn-color-unfitted-level-0);\n",
       "}\n",
       "\n",
       "#sk-container-id-10 div.sk-estimator.fitted {\n",
       "  /* fitted */\n",
       "  background-color: var(--sklearn-color-fitted-level-0);\n",
       "}\n",
       "\n",
       "/* on hover */\n",
       "#sk-container-id-10 div.sk-estimator:hover {\n",
       "  /* unfitted */\n",
       "  background-color: var(--sklearn-color-unfitted-level-2);\n",
       "}\n",
       "\n",
       "#sk-container-id-10 div.sk-estimator.fitted:hover {\n",
       "  /* fitted */\n",
       "  background-color: var(--sklearn-color-fitted-level-2);\n",
       "}\n",
       "\n",
       "/* Specification for estimator info (e.g. \"i\" and \"?\") */\n",
       "\n",
       "/* Common style for \"i\" and \"?\" */\n",
       "\n",
       ".sk-estimator-doc-link,\n",
       "a:link.sk-estimator-doc-link,\n",
       "a:visited.sk-estimator-doc-link {\n",
       "  float: right;\n",
       "  font-size: smaller;\n",
       "  line-height: 1em;\n",
       "  font-family: monospace;\n",
       "  background-color: var(--sklearn-color-background);\n",
       "  border-radius: 1em;\n",
       "  height: 1em;\n",
       "  width: 1em;\n",
       "  text-decoration: none !important;\n",
       "  margin-left: 0.5em;\n",
       "  text-align: center;\n",
       "  /* unfitted */\n",
       "  border: var(--sklearn-color-unfitted-level-1) 1pt solid;\n",
       "  color: var(--sklearn-color-unfitted-level-1);\n",
       "}\n",
       "\n",
       ".sk-estimator-doc-link.fitted,\n",
       "a:link.sk-estimator-doc-link.fitted,\n",
       "a:visited.sk-estimator-doc-link.fitted {\n",
       "  /* fitted */\n",
       "  border: var(--sklearn-color-fitted-level-1) 1pt solid;\n",
       "  color: var(--sklearn-color-fitted-level-1);\n",
       "}\n",
       "\n",
       "/* On hover */\n",
       "div.sk-estimator:hover .sk-estimator-doc-link:hover,\n",
       ".sk-estimator-doc-link:hover,\n",
       "div.sk-label-container:hover .sk-estimator-doc-link:hover,\n",
       ".sk-estimator-doc-link:hover {\n",
       "  /* unfitted */\n",
       "  background-color: var(--sklearn-color-unfitted-level-3);\n",
       "  color: var(--sklearn-color-background);\n",
       "  text-decoration: none;\n",
       "}\n",
       "\n",
       "div.sk-estimator.fitted:hover .sk-estimator-doc-link.fitted:hover,\n",
       ".sk-estimator-doc-link.fitted:hover,\n",
       "div.sk-label-container:hover .sk-estimator-doc-link.fitted:hover,\n",
       ".sk-estimator-doc-link.fitted:hover {\n",
       "  /* fitted */\n",
       "  background-color: var(--sklearn-color-fitted-level-3);\n",
       "  color: var(--sklearn-color-background);\n",
       "  text-decoration: none;\n",
       "}\n",
       "\n",
       "/* Span, style for the box shown on hovering the info icon */\n",
       ".sk-estimator-doc-link span {\n",
       "  display: none;\n",
       "  z-index: 9999;\n",
       "  position: relative;\n",
       "  font-weight: normal;\n",
       "  right: .2ex;\n",
       "  padding: .5ex;\n",
       "  margin: .5ex;\n",
       "  width: min-content;\n",
       "  min-width: 20ex;\n",
       "  max-width: 50ex;\n",
       "  color: var(--sklearn-color-text);\n",
       "  box-shadow: 2pt 2pt 4pt #999;\n",
       "  /* unfitted */\n",
       "  background: var(--sklearn-color-unfitted-level-0);\n",
       "  border: .5pt solid var(--sklearn-color-unfitted-level-3);\n",
       "}\n",
       "\n",
       ".sk-estimator-doc-link.fitted span {\n",
       "  /* fitted */\n",
       "  background: var(--sklearn-color-fitted-level-0);\n",
       "  border: var(--sklearn-color-fitted-level-3);\n",
       "}\n",
       "\n",
       ".sk-estimator-doc-link:hover span {\n",
       "  display: block;\n",
       "}\n",
       "\n",
       "/* \"?\"-specific style due to the `<a>` HTML tag */\n",
       "\n",
       "#sk-container-id-10 a.estimator_doc_link {\n",
       "  float: right;\n",
       "  font-size: 1rem;\n",
       "  line-height: 1em;\n",
       "  font-family: monospace;\n",
       "  background-color: var(--sklearn-color-background);\n",
       "  border-radius: 1rem;\n",
       "  height: 1rem;\n",
       "  width: 1rem;\n",
       "  text-decoration: none;\n",
       "  /* unfitted */\n",
       "  color: var(--sklearn-color-unfitted-level-1);\n",
       "  border: var(--sklearn-color-unfitted-level-1) 1pt solid;\n",
       "}\n",
       "\n",
       "#sk-container-id-10 a.estimator_doc_link.fitted {\n",
       "  /* fitted */\n",
       "  border: var(--sklearn-color-fitted-level-1) 1pt solid;\n",
       "  color: var(--sklearn-color-fitted-level-1);\n",
       "}\n",
       "\n",
       "/* On hover */\n",
       "#sk-container-id-10 a.estimator_doc_link:hover {\n",
       "  /* unfitted */\n",
       "  background-color: var(--sklearn-color-unfitted-level-3);\n",
       "  color: var(--sklearn-color-background);\n",
       "  text-decoration: none;\n",
       "}\n",
       "\n",
       "#sk-container-id-10 a.estimator_doc_link.fitted:hover {\n",
       "  /* fitted */\n",
       "  background-color: var(--sklearn-color-fitted-level-3);\n",
       "}\n",
       "</style><div id=\"sk-container-id-10\" class=\"sk-top-container\"><div class=\"sk-text-repr-fallback\"><pre>DecisionTreeRegressor()</pre><b>In a Jupyter environment, please rerun this cell to show the HTML representation or trust the notebook. <br />On GitHub, the HTML representation is unable to render, please try loading this page with nbviewer.org.</b></div><div class=\"sk-container\" hidden><div class=\"sk-item\"><div class=\"sk-estimator fitted sk-toggleable\"><input class=\"sk-toggleable__control sk-hidden--visually\" id=\"sk-estimator-id-10\" type=\"checkbox\" checked><label for=\"sk-estimator-id-10\" class=\"sk-toggleable__label fitted sk-toggleable__label-arrow\"><div><div>DecisionTreeRegressor</div></div><div><a class=\"sk-estimator-doc-link fitted\" rel=\"noreferrer\" target=\"_blank\" href=\"https://scikit-learn.org/1.6/modules/generated/sklearn.tree.DecisionTreeRegressor.html\">?<span>Documentation for DecisionTreeRegressor</span></a><span class=\"sk-estimator-doc-link fitted\">i<span>Fitted</span></span></div></label><div class=\"sk-toggleable__content fitted\"><pre>DecisionTreeRegressor()</pre></div> </div></div></div></div>"
      ],
      "text/plain": [
       "DecisionTreeRegressor()"
      ]
     },
     "execution_count": 857,
     "metadata": {},
     "output_type": "execute_result"
    }
   ],
   "source": [
    "m = DecisionTreeRegressor()\n",
    "m.fit(xs,y)"
   ]
  },
  {
   "cell_type": "markdown",
   "metadata": {},
   "source": [
    "### LOSS FUNCTION"
   ]
  },
  {
   "cell_type": "markdown",
   "metadata": {},
   "source": [
    "ROOT MEAN SQUARE LOG ERROR\n",
    "\n",
    "log error --> because we took the log of the price"
   ]
  },
  {
   "cell_type": "code",
   "execution_count": 858,
   "metadata": {},
   "outputs": [],
   "source": [
    "# it is good to make your loss function from scratch for you to see how math's\n",
    "# will be directly implemented inside the work that you have at hand\n",
    "# let's make the rmse\n",
    "\n",
    "import math\n",
    "def r_mse(pred, y): return round(math.sqrt(((pred-y)**2).mean()), 6)\n",
    "def m_rmse(m,xs,y): return r_mse(m.predict(xs),y)"
   ]
  },
  {
   "cell_type": "code",
   "execution_count": 859,
   "metadata": {},
   "outputs": [
    {
     "data": {
      "text/plain": [
       "(0.051989, 0.281995)"
      ]
     },
     "execution_count": 859,
     "metadata": {},
     "output_type": "execute_result"
    }
   ],
   "source": [
    "m_rmse(m,xs,y), m_rmse(m,valid_xs,valid_y)"
   ]
  },
  {
   "cell_type": "markdown",
   "metadata": {},
   "source": [
    "why the validation error is higher than the training error ? what's happening? "
   ]
  },
  {
   "cell_type": "code",
   "execution_count": 860,
   "metadata": {},
   "outputs": [
    {
     "data": {
      "text/plain": [
       "(565224, 656188)"
      ]
     },
     "execution_count": 860,
     "metadata": {},
     "output_type": "execute_result"
    }
   ],
   "source": [
    "m.get_n_leaves(), len(xs)"
   ]
  },
  {
   "cell_type": "markdown",
   "metadata": {},
   "source": [
    "we have `70,000` leafs, and the decision tree have `60427` leafs which means the decision tree literally memorized the training dataset, which is known in deep learning as `overfitting`"
   ]
  },
  {
   "cell_type": "code",
   "execution_count": 861,
   "metadata": {},
   "outputs": [
    {
     "data": {
      "text/plain": [
       "(0.22191, 0.243914)"
      ]
     },
     "execution_count": 861,
     "metadata": {},
     "output_type": "execute_result"
    }
   ],
   "source": [
    "m = DecisionTreeRegressor(min_samples_leaf=25).fit(xs, y)\n",
    "m_rmse(m, xs, y), m_rmse(m, valid_xs, valid_y)"
   ]
  },
  {
   "cell_type": "markdown",
   "metadata": {},
   "source": [
    "now they are closer to each other, and that's just better !"
   ]
  },
  {
   "cell_type": "code",
   "execution_count": 862,
   "metadata": {},
   "outputs": [
    {
     "data": {
      "text/plain": [
       "19860"
      ]
     },
     "execution_count": 862,
     "metadata": {},
     "output_type": "execute_result"
    }
   ],
   "source": [
    "m.get_n_leaves() # very good result"
   ]
  },
  {
   "cell_type": "markdown",
   "metadata": {},
   "source": [
    "## Creating a RandomForest"
   ]
  },
  {
   "cell_type": "markdown",
   "metadata": {},
   "source": [
    "## later:\n",
    "\n",
    "- try improving this randomForest Regressor with better parameters"
   ]
  },
  {
   "cell_type": "code",
   "execution_count": 863,
   "metadata": {},
   "outputs": [],
   "source": [
    "from sklearn.ensemble import RandomForestRegressor\n",
    "\n",
    "# we will make a function to traverse and try different parameters for the RandomForest\n",
    "# n_estimators = 40 --> number of trees, if you have time and enough sleep increase this number\n",
    "# max_samples = 200,000 rows , but we have 192,000 train datapoints , let's see if anything here breaks \n",
    "# max_features = 0.5 --> randomly take half the columns to train a single tree\n",
    "# min_samples_leaf= 5 --> the final leaf node shall contain at least 5 rows of data (5 airplane tickets)\n",
    "# n_jobs = -1 --> tell sklearn to use all of our CPU brain power to run this in parallel\n",
    "# oob_score = True --> explain this later\n",
    "\n",
    "# things to test here, increase the # of trees, use sklearn default max_feature, use the min_samples_leaf default of sklearn\n",
    "# then report your findings\n",
    "\n",
    "def rf(xs, y, n_estimators=40, max_samples=656188, max_features=0.5, min_samples_leaf=4, **kwargs):\n",
    "    return RandomForestRegressor(n_estimators=n_estimators, max_samples=max_samples, \n",
    "                                 max_features=max_features, min_samples_leaf=min_samples_leaf,\n",
    "                                 oob_score=True , n_jobs=-1).fit(xs,y)"
   ]
  },
  {
   "cell_type": "code",
   "execution_count": 864,
   "metadata": {},
   "outputs": [],
   "source": [
    "m = rf(xs,y)"
   ]
  },
  {
   "cell_type": "code",
   "execution_count": 865,
   "metadata": {},
   "outputs": [
    {
     "data": {
      "text/plain": [
       "(0.166484, 0.218065)"
      ]
     },
     "execution_count": 865,
     "metadata": {},
     "output_type": "execute_result"
    }
   ],
   "source": [
    "m_rmse(m, xs, y), m_rmse(m, valid_xs, valid_y)"
   ]
  },
  {
   "cell_type": "code",
   "execution_count": 866,
   "metadata": {},
   "outputs": [
    {
     "data": {
      "text/plain": [
       "count    937411.000000\n",
       "mean         12.820374\n",
       "std           0.417607\n",
       "min          12.000278\n",
       "25%          12.502467\n",
       "50%          12.820988\n",
       "75%          13.132314\n",
       "max          13.651950\n",
       "Name: price, dtype: float64"
      ]
     },
     "execution_count": 866,
     "metadata": {},
     "output_type": "execute_result"
    }
   ],
   "source": [
    "df_100k.price.describe()"
   ]
  },
  {
   "cell_type": "markdown",
   "metadata": {},
   "source": [
    "## Feature Importances"
   ]
  },
  {
   "cell_type": "code",
   "execution_count": 867,
   "metadata": {},
   "outputs": [],
   "source": [
    "def rf_feature_importance(m,df):\n",
    "  return pd.DataFrame(\n",
    "    {'cols':df.columns, 'imp':m.feature_importances_}\n",
    "  ).sort_values('imp',ascending=False)\n",
    "  "
   ]
  },
  {
   "cell_type": "code",
   "execution_count": 868,
   "metadata": {},
   "outputs": [
    {
     "data": {
      "text/html": [
       "<div>\n",
       "<style scoped>\n",
       "    .dataframe tbody tr th:only-of-type {\n",
       "        vertical-align: middle;\n",
       "    }\n",
       "\n",
       "    .dataframe tbody tr th {\n",
       "        vertical-align: top;\n",
       "    }\n",
       "\n",
       "    .dataframe thead th {\n",
       "        text-align: right;\n",
       "    }\n",
       "</style>\n",
       "<table border=\"1\" class=\"dataframe\">\n",
       "  <thead>\n",
       "    <tr style=\"text-align: right;\">\n",
       "      <th></th>\n",
       "      <th>cols</th>\n",
       "      <th>imp</th>\n",
       "    </tr>\n",
       "  </thead>\n",
       "  <tbody>\n",
       "    <tr>\n",
       "      <th>6</th>\n",
       "      <td>zip_code</td>\n",
       "      <td>0.415062</td>\n",
       "    </tr>\n",
       "    <tr>\n",
       "      <th>7</th>\n",
       "      <td>house_size</td>\n",
       "      <td>0.236815</td>\n",
       "    </tr>\n",
       "    <tr>\n",
       "      <th>1</th>\n",
       "      <td>city</td>\n",
       "      <td>0.088251</td>\n",
       "    </tr>\n",
       "    <tr>\n",
       "      <th>2</th>\n",
       "      <td>state</td>\n",
       "      <td>0.083996</td>\n",
       "    </tr>\n",
       "    <tr>\n",
       "      <th>4</th>\n",
       "      <td>bath</td>\n",
       "      <td>0.081842</td>\n",
       "    </tr>\n",
       "    <tr>\n",
       "      <th>5</th>\n",
       "      <td>land_size</td>\n",
       "      <td>0.051763</td>\n",
       "    </tr>\n",
       "    <tr>\n",
       "      <th>3</th>\n",
       "      <td>bed</td>\n",
       "      <td>0.025267</td>\n",
       "    </tr>\n",
       "    <tr>\n",
       "      <th>0</th>\n",
       "      <td>status</td>\n",
       "      <td>0.017003</td>\n",
       "    </tr>\n",
       "  </tbody>\n",
       "</table>\n",
       "</div>"
      ],
      "text/plain": [
       "         cols       imp\n",
       "6    zip_code  0.415062\n",
       "7  house_size  0.236815\n",
       "1        city  0.088251\n",
       "2       state  0.083996\n",
       "4        bath  0.081842\n",
       "5   land_size  0.051763\n",
       "3         bed  0.025267\n",
       "0      status  0.017003"
      ]
     },
     "execution_count": 868,
     "metadata": {},
     "output_type": "execute_result"
    }
   ],
   "source": [
    "fi = rf_feature_importance(m,xs)\n",
    "fi"
   ]
  },
  {
   "cell_type": "code",
   "execution_count": 869,
   "metadata": {},
   "outputs": [
    {
     "data": {
      "image/png": "[encoded data removed]",
      "text/plain": [
       "<Figure size 1200x700 with 1 Axes>"
      ]
     },
     "metadata": {
      "needs_background": "light"
     },
     "output_type": "display_data"
    }
   ],
   "source": [
    "def plot_fi(fi): \n",
    "  return fi.plot('cols','imp','barh', figsize=(12,7),legend=False)\n",
    "\n",
    "plot_fi(fi);"
   ]
  },
  {
   "cell_type": "code",
   "execution_count": 870,
   "metadata": {},
   "outputs": [
    {
     "data": {
      "text/plain": [
       "6      zip_code\n",
       "7    house_size\n",
       "1          city\n",
       "2         state\n",
       "4          bath\n",
       "5     land_size\n",
       "3           bed\n",
       "0        status\n",
       "Name: cols, dtype: object"
      ]
     },
     "execution_count": 870,
     "metadata": {},
     "output_type": "execute_result"
    }
   ],
   "source": [
    "to_keep = fi[fi.imp>0.005].cols\n",
    "to_keep"
   ]
  },
  {
   "cell_type": "code",
   "execution_count": 871,
   "metadata": {},
   "outputs": [
    {
     "data": {
      "text/plain": [
       "(8, 8)"
      ]
     },
     "execution_count": 871,
     "metadata": {},
     "output_type": "execute_result"
    }
   ],
   "source": [
    "len(to_keep) , len(fi)"
   ]
  },
  {
   "cell_type": "code",
   "execution_count": 872,
   "metadata": {},
   "outputs": [
    {
     "data": {
      "text/plain": [
       "['zip_code',\n",
       " 'house_size',\n",
       " 'city',\n",
       " 'state',\n",
       " 'bath',\n",
       " 'land_size',\n",
       " 'bed',\n",
       " 'status']"
      ]
     },
     "execution_count": 872,
     "metadata": {},
     "output_type": "execute_result"
    }
   ],
   "source": [
    "xs_imp = xs[to_keep]\n",
    "valid_xs_imp = valid_xs[to_keep]\n",
    "\n",
    "valid_xs_imp.columns.tolist()"
   ]
  },
  {
   "cell_type": "code",
   "execution_count": 873,
   "metadata": {},
   "outputs": [],
   "source": [
    "m = rf(xs_imp, y)"
   ]
  },
  {
   "cell_type": "code",
   "execution_count": 874,
   "metadata": {},
   "outputs": [
    {
     "data": {
      "text/plain": [
       "(0.166873, 0.218643)"
      ]
     },
     "execution_count": 874,
     "metadata": {},
     "output_type": "execute_result"
    }
   ],
   "source": [
    "m_rmse(m, xs_imp, y), m_rmse(m, valid_xs_imp, valid_y)"
   ]
  },
  {
   "cell_type": "markdown",
   "metadata": {},
   "source": [
    "there is not much of a difference in error rate for with the new columns"
   ]
  },
  {
   "cell_type": "code",
   "execution_count": 875,
   "metadata": {},
   "outputs": [],
   "source": [
    "xs_final = xs_imp\n",
    "valid_xs_final = valid_xs_imp "
   ]
  },
  {
   "cell_type": "code",
   "execution_count": 876,
   "metadata": {},
   "outputs": [],
   "source": [
    "save_pickle('./xs_final_house.pkl', xs_final)\n",
    "save_pickle('./valid_xs_final_house.pkl', valid_xs_final)\n"
   ]
  },
  {
   "cell_type": "markdown",
   "metadata": {},
   "source": [
    "# Final Chosen Features"
   ]
  },
  {
   "cell_type": "code",
   "execution_count": 877,
   "metadata": {},
   "outputs": [],
   "source": [
    "xs = load_pickle('./xs_final_house.pkl')\n",
    "valid_xs = load_pickle('./valid_xs_final_house.pkl')"
   ]
  },
  {
   "cell_type": "code",
   "execution_count": 878,
   "metadata": {},
   "outputs": [],
   "source": [
    "# make sure everything is going well\n",
    "m = rf(xs,y)"
   ]
  },
  {
   "cell_type": "code",
   "execution_count": 879,
   "metadata": {},
   "outputs": [
    {
     "data": {
      "text/plain": [
       "(0.166613, 0.218442)"
      ]
     },
     "execution_count": 879,
     "metadata": {},
     "output_type": "execute_result"
    }
   ],
   "source": [
    "m_rmse(m, xs, y), m_rmse(m, valid_xs, valid_y)"
   ]
  },
  {
   "cell_type": "markdown",
   "metadata": {},
   "source": [
    "every is good, the error is the same as above"
   ]
  },
  {
   "cell_type": "code",
   "execution_count": 880,
   "metadata": {},
   "outputs": [
    {
     "name": "stdout",
     "output_type": "stream",
     "text": [
      "Requirement already satisfied: treeinterpreter in /usr/local/lib/python3.11/dist-packages (0.2.3)\n",
      "Requirement already satisfied: waterfallcharts in /usr/local/lib/python3.11/dist-packages (3.8)\n",
      "\u001b[33mWARNING: Running pip as the 'root' user can result in broken permissions and conflicting behaviour with the system package manager. It is recommended to use a virtual environment instead: https://pip.pypa.io/warnings/venv\u001b[0m\u001b[33m\n",
      "\u001b[0m"
     ]
    }
   ],
   "source": [
    "! pip install treeinterpreter waterfallcharts"
   ]
  },
  {
   "cell_type": "code",
   "execution_count": 881,
   "metadata": {},
   "outputs": [],
   "source": [
    "import warnings\n",
    "warnings.simplefilter('ignore', FutureWarning)\n",
    "\n",
    "from treeinterpreter import treeinterpreter\n",
    "from waterfall_chart import plot as waterfall"
   ]
  },
  {
   "cell_type": "code",
   "execution_count": 882,
   "metadata": {},
   "outputs": [],
   "source": [
    "row = valid_xs.iloc[:5]"
   ]
  },
  {
   "cell_type": "code",
   "execution_count": 883,
   "metadata": {},
   "outputs": [],
   "source": [
    "prediction,bias,contributions = treeinterpreter.predict(m,row.values)"
   ]
  },
  {
   "cell_type": "code",
   "execution_count": 884,
   "metadata": {},
   "outputs": [
    {
     "data": {
      "text/plain": [
       "(array([13.22214679]), 12.820508831768457, 0.40163795877336683)"
      ]
     },
     "execution_count": 884,
     "metadata": {},
     "output_type": "execute_result"
    }
   ],
   "source": [
    "prediction[1],bias[1],contributions[1].sum()"
   ]
  },
  {
   "cell_type": "code",
   "execution_count": 885,
   "metadata": {},
   "outputs": [
    {
     "data": {
      "image/png": "[encoded data removed]",
      "text/plain": [
       "<Figure size 1000x600 with 1 Axes>"
      ]
     },
     "metadata": {
      "needs_background": "light"
     },
     "output_type": "display_data"
    }
   ],
   "source": [
    "# ';' -> used to hide the unecessary outputs\n",
    "waterfall(\n",
    "  valid_xs.columns, contributions[1], threshold=0.08,\n",
    "  rotation_value=45, formatting='{:.3f}'\n",
    "  );"
   ]
  },
  {
   "cell_type": "markdown",
   "metadata": {},
   "source": [
    "## edit this explanation later on\n",
    "\n",
    "for a particular row of data, the following attributes help predict the flight ticket price in the following way: \n",
    "the class caused the ticket price to go down by - 0.612 then the days_left allowed the price to go higher with a +0.521 then the airline also pushed the price higher, then the duration pushed the price higher, other factors contributed a litte to push the price higher.\n",
    "\n",
    "this is a good analysis, it represents what really happens in the real world, economy classes are generally cheaper, the days left to a flight generally also makes the price in the real world higher, then the airline pushes the price even higher in the real world and our model seems to think like a human, very nice analysis\n",
    "\n",
    "this is analysis is good in 'production settings' where if the user asks why the price is high or low, we have this sample data that can provide the answer of what features cause the price to go up or down and by how much, very nice. "
   ]
  },
  {
   "cell_type": "code",
   "execution_count": 886,
   "metadata": {},
   "outputs": [
    {
     "data": {
      "text/html": [
       "<div>\n",
       "<style scoped>\n",
       "    .dataframe tbody tr th:only-of-type {\n",
       "        vertical-align: middle;\n",
       "    }\n",
       "\n",
       "    .dataframe tbody tr th {\n",
       "        vertical-align: top;\n",
       "    }\n",
       "\n",
       "    .dataframe thead th {\n",
       "        text-align: right;\n",
       "    }\n",
       "</style>\n",
       "<table border=\"1\" class=\"dataframe\">\n",
       "  <thead>\n",
       "    <tr style=\"text-align: right;\">\n",
       "      <th></th>\n",
       "      <th>status</th>\n",
       "      <th>bed</th>\n",
       "      <th>bath</th>\n",
       "      <th>land_size</th>\n",
       "      <th>city</th>\n",
       "      <th>state</th>\n",
       "      <th>zip_code</th>\n",
       "      <th>house_size</th>\n",
       "    </tr>\n",
       "  </thead>\n",
       "  <tbody>\n",
       "    <tr>\n",
       "      <th>2209609</th>\n",
       "      <td>sold</td>\n",
       "      <td>3.0</td>\n",
       "      <td>3.0</td>\n",
       "      <td>1335.4638</td>\n",
       "      <td>Port Orchard</td>\n",
       "      <td>Washington</td>\n",
       "      <td>98366.0</td>\n",
       "      <td>177.073118</td>\n",
       "    </tr>\n",
       "    <tr>\n",
       "      <th>2209613</th>\n",
       "      <td>sold</td>\n",
       "      <td>3.0</td>\n",
       "      <td>2.0</td>\n",
       "      <td>1173.5894</td>\n",
       "      <td>Belfair</td>\n",
       "      <td>Washington</td>\n",
       "      <td>98528.0</td>\n",
       "      <td>115.942944</td>\n",
       "    </tr>\n",
       "    <tr>\n",
       "      <th>2209614</th>\n",
       "      <td>sold</td>\n",
       "      <td>1.0</td>\n",
       "      <td>1.0</td>\n",
       "      <td>728.4348</td>\n",
       "      <td>Port Orchard</td>\n",
       "      <td>Washington</td>\n",
       "      <td>98366.0</td>\n",
       "      <td>74.322400</td>\n",
       "    </tr>\n",
       "    <tr>\n",
       "      <th>2209619</th>\n",
       "      <td>sold</td>\n",
       "      <td>4.0</td>\n",
       "      <td>3.0</td>\n",
       "      <td>566.5604</td>\n",
       "      <td>Bremerton</td>\n",
       "      <td>Washington</td>\n",
       "      <td>98312.0</td>\n",
       "      <td>282.518023</td>\n",
       "    </tr>\n",
       "    <tr>\n",
       "      <th>2209620</th>\n",
       "      <td>sold</td>\n",
       "      <td>2.0</td>\n",
       "      <td>2.0</td>\n",
       "      <td>1011.7150</td>\n",
       "      <td>Bremerton</td>\n",
       "      <td>Washington</td>\n",
       "      <td>98311.0</td>\n",
       "      <td>178.373760</td>\n",
       "    </tr>\n",
       "    <tr>\n",
       "      <th>...</th>\n",
       "      <td>...</td>\n",
       "      <td>...</td>\n",
       "      <td>...</td>\n",
       "      <td>...</td>\n",
       "      <td>...</td>\n",
       "      <td>...</td>\n",
       "      <td>...</td>\n",
       "      <td>...</td>\n",
       "    </tr>\n",
       "    <tr>\n",
       "      <th>2225937</th>\n",
       "      <td>sold</td>\n",
       "      <td>3.0</td>\n",
       "      <td>2.0</td>\n",
       "      <td>728.4348</td>\n",
       "      <td>Richland</td>\n",
       "      <td>Washington</td>\n",
       "      <td>99352.0</td>\n",
       "      <td>181.625365</td>\n",
       "    </tr>\n",
       "    <tr>\n",
       "      <th>2225938</th>\n",
       "      <td>sold</td>\n",
       "      <td>3.0</td>\n",
       "      <td>2.0</td>\n",
       "      <td>607.0290</td>\n",
       "      <td>Richland</td>\n",
       "      <td>Washington</td>\n",
       "      <td>99352.0</td>\n",
       "      <td>158.306712</td>\n",
       "    </tr>\n",
       "    <tr>\n",
       "      <th>2225939</th>\n",
       "      <td>sold</td>\n",
       "      <td>3.0</td>\n",
       "      <td>2.0</td>\n",
       "      <td>607.0290</td>\n",
       "      <td>Richland</td>\n",
       "      <td>Washington</td>\n",
       "      <td>99352.0</td>\n",
       "      <td>153.940271</td>\n",
       "    </tr>\n",
       "    <tr>\n",
       "      <th>2225940</th>\n",
       "      <td>sold</td>\n",
       "      <td>4.0</td>\n",
       "      <td>3.0</td>\n",
       "      <td>971.2464</td>\n",
       "      <td>Richland</td>\n",
       "      <td>Washington</td>\n",
       "      <td>99352.0</td>\n",
       "      <td>231.514276</td>\n",
       "    </tr>\n",
       "    <tr>\n",
       "      <th>2225941</th>\n",
       "      <td>sold</td>\n",
       "      <td>3.0</td>\n",
       "      <td>2.0</td>\n",
       "      <td>445.1546</td>\n",
       "      <td>Richland</td>\n",
       "      <td>Washington</td>\n",
       "      <td>99352.0</td>\n",
       "      <td>115.942944</td>\n",
       "    </tr>\n",
       "  </tbody>\n",
       "</table>\n",
       "<p>10000 rows × 8 columns</p>\n",
       "</div>"
      ],
      "text/plain": [
       "        status  bed  bath  land_size          city       state  zip_code  \\\n",
       "2209609   sold  3.0   3.0  1335.4638  Port Orchard  Washington   98366.0   \n",
       "2209613   sold  3.0   2.0  1173.5894       Belfair  Washington   98528.0   \n",
       "2209614   sold  1.0   1.0   728.4348  Port Orchard  Washington   98366.0   \n",
       "2209619   sold  4.0   3.0   566.5604     Bremerton  Washington   98312.0   \n",
       "2209620   sold  2.0   2.0  1011.7150     Bremerton  Washington   98311.0   \n",
       "...        ...  ...   ...        ...           ...         ...       ...   \n",
       "2225937   sold  3.0   2.0   728.4348      Richland  Washington   99352.0   \n",
       "2225938   sold  3.0   2.0   607.0290      Richland  Washington   99352.0   \n",
       "2225939   sold  3.0   2.0   607.0290      Richland  Washington   99352.0   \n",
       "2225940   sold  4.0   3.0   971.2464      Richland  Washington   99352.0   \n",
       "2225941   sold  3.0   2.0   445.1546      Richland  Washington   99352.0   \n",
       "\n",
       "         house_size  \n",
       "2209609  177.073118  \n",
       "2209613  115.942944  \n",
       "2209614   74.322400  \n",
       "2209619  282.518023  \n",
       "2209620  178.373760  \n",
       "...             ...  \n",
       "2225937  181.625365  \n",
       "2225938  158.306712  \n",
       "2225939  153.940271  \n",
       "2225940  231.514276  \n",
       "2225941  115.942944  \n",
       "\n",
       "[10000 rows x 8 columns]"
      ]
     },
     "execution_count": 886,
     "metadata": {},
     "output_type": "execute_result"
    }
   ],
   "source": [
    "test_xs = df_test.drop(columns=['price'])\n",
    "test_xs"
   ]
  },
  {
   "cell_type": "code",
   "execution_count": 887,
   "metadata": {},
   "outputs": [],
   "source": [
    "dl_test = to.dataloaders().test_dl(df_test)\n",
    "xs_test, y_test = dl_test.train.xs, dl_test.train.y\n",
    "xs_test = xs_test[xs.columns.to_list()]"
   ]
  },
  {
   "cell_type": "code",
   "execution_count": 888,
   "metadata": {},
   "outputs": [
    {
     "data": {
      "text/plain": [
       "0.215582"
      ]
     },
     "execution_count": 888,
     "metadata": {},
     "output_type": "execute_result"
    }
   ],
   "source": [
    "# the test set shows you how well you are doing\n",
    "# i can say we are doing pretty well\n",
    "m_rmse(m,xs_test, y_test)"
   ]
  },
  {
   "cell_type": "markdown",
   "metadata": {},
   "source": [
    "### USING A NEURAL NETWORK"
   ]
  },
  {
   "cell_type": "code",
   "execution_count": 889,
   "metadata": {},
   "outputs": [
    {
     "data": {
      "text/html": [
       "<div>\n",
       "<style scoped>\n",
       "    .dataframe tbody tr th:only-of-type {\n",
       "        vertical-align: middle;\n",
       "    }\n",
       "\n",
       "    .dataframe tbody tr th {\n",
       "        vertical-align: top;\n",
       "    }\n",
       "\n",
       "    .dataframe thead th {\n",
       "        text-align: right;\n",
       "    }\n",
       "</style>\n",
       "<table border=\"1\" class=\"dataframe\">\n",
       "  <thead>\n",
       "    <tr style=\"text-align: right;\">\n",
       "      <th></th>\n",
       "      <th>status</th>\n",
       "      <th>price</th>\n",
       "      <th>bed</th>\n",
       "      <th>bath</th>\n",
       "      <th>land_size</th>\n",
       "      <th>city</th>\n",
       "      <th>state</th>\n",
       "      <th>zip_code</th>\n",
       "      <th>house_size</th>\n",
       "    </tr>\n",
       "  </thead>\n",
       "  <tbody>\n",
       "    <tr>\n",
       "      <th>16</th>\n",
       "      <td>for_sale</td>\n",
       "      <td>12.367341</td>\n",
       "      <td>4.0</td>\n",
       "      <td>4.0</td>\n",
       "      <td>890.3092</td>\n",
       "      <td>Mayaguez</td>\n",
       "      <td>Puerto Rico</td>\n",
       "      <td>680.0</td>\n",
       "      <td>320.515350</td>\n",
       "    </tr>\n",
       "    <tr>\n",
       "      <th>21</th>\n",
       "      <td>for_sale</td>\n",
       "      <td>12.013701</td>\n",
       "      <td>6.0</td>\n",
       "      <td>3.0</td>\n",
       "      <td>404.6860</td>\n",
       "      <td>Moca</td>\n",
       "      <td>Puerto Rico</td>\n",
       "      <td>676.0</td>\n",
       "      <td>278.709000</td>\n",
       "    </tr>\n",
       "    <tr>\n",
       "      <th>25</th>\n",
       "      <td>for_sale</td>\n",
       "      <td>12.449019</td>\n",
       "      <td>3.0</td>\n",
       "      <td>2.0</td>\n",
       "      <td>1133.1208</td>\n",
       "      <td>San Sebastian</td>\n",
       "      <td>Puerto Rico</td>\n",
       "      <td>685.0</td>\n",
       "      <td>139.354500</td>\n",
       "    </tr>\n",
       "    <tr>\n",
       "      <th>26</th>\n",
       "      <td>for_sale</td>\n",
       "      <td>12.959844</td>\n",
       "      <td>4.0</td>\n",
       "      <td>3.0</td>\n",
       "      <td>1214.0580</td>\n",
       "      <td>Ponce</td>\n",
       "      <td>Puerto Rico</td>\n",
       "      <td>730.0</td>\n",
       "      <td>278.709000</td>\n",
       "    </tr>\n",
       "    <tr>\n",
       "      <th>31</th>\n",
       "      <td>for_sale</td>\n",
       "      <td>12.323856</td>\n",
       "      <td>5.0</td>\n",
       "      <td>4.0</td>\n",
       "      <td>485.6232</td>\n",
       "      <td>Ponce</td>\n",
       "      <td>Puerto Rico</td>\n",
       "      <td>717.0</td>\n",
       "      <td>148.644800</td>\n",
       "    </tr>\n",
       "    <tr>\n",
       "      <th>...</th>\n",
       "      <td>...</td>\n",
       "      <td>...</td>\n",
       "      <td>...</td>\n",
       "      <td>...</td>\n",
       "      <td>...</td>\n",
       "      <td>...</td>\n",
       "      <td>...</td>\n",
       "      <td>...</td>\n",
       "      <td>...</td>\n",
       "    </tr>\n",
       "    <tr>\n",
       "      <th>2209598</th>\n",
       "      <td>sold</td>\n",
       "      <td>12.905182</td>\n",
       "      <td>3.0</td>\n",
       "      <td>2.0</td>\n",
       "      <td>404.6860</td>\n",
       "      <td>Port Orchard</td>\n",
       "      <td>Washington</td>\n",
       "      <td>98367.0</td>\n",
       "      <td>136.567410</td>\n",
       "    </tr>\n",
       "    <tr>\n",
       "      <th>2209602</th>\n",
       "      <td>sold</td>\n",
       "      <td>13.049793</td>\n",
       "      <td>4.0</td>\n",
       "      <td>3.0</td>\n",
       "      <td>323.7488</td>\n",
       "      <td>Port Orchard</td>\n",
       "      <td>Washington</td>\n",
       "      <td>98366.0</td>\n",
       "      <td>198.998226</td>\n",
       "    </tr>\n",
       "    <tr>\n",
       "      <th>2209606</th>\n",
       "      <td>sold</td>\n",
       "      <td>13.514091</td>\n",
       "      <td>4.0</td>\n",
       "      <td>3.0</td>\n",
       "      <td>1456.8696</td>\n",
       "      <td>Allyn</td>\n",
       "      <td>Washington</td>\n",
       "      <td>98524.0</td>\n",
       "      <td>237.924583</td>\n",
       "    </tr>\n",
       "    <tr>\n",
       "      <th>2209607</th>\n",
       "      <td>sold</td>\n",
       "      <td>12.847663</td>\n",
       "      <td>3.0</td>\n",
       "      <td>2.0</td>\n",
       "      <td>890.3092</td>\n",
       "      <td>Bremerton</td>\n",
       "      <td>Washington</td>\n",
       "      <td>98312.0</td>\n",
       "      <td>120.402288</td>\n",
       "    </tr>\n",
       "    <tr>\n",
       "      <th>2209608</th>\n",
       "      <td>sold</td>\n",
       "      <td>12.577636</td>\n",
       "      <td>1.0</td>\n",
       "      <td>1.0</td>\n",
       "      <td>890.3092</td>\n",
       "      <td>Bremerton</td>\n",
       "      <td>Washington</td>\n",
       "      <td>98310.0</td>\n",
       "      <td>75.623042</td>\n",
       "    </tr>\n",
       "  </tbody>\n",
       "</table>\n",
       "<p>937411 rows × 9 columns</p>\n",
       "</div>"
      ],
      "text/plain": [
       "           status      price  bed  bath  land_size           city  \\\n",
       "16       for_sale  12.367341  4.0   4.0   890.3092       Mayaguez   \n",
       "21       for_sale  12.013701  6.0   3.0   404.6860           Moca   \n",
       "25       for_sale  12.449019  3.0   2.0  1133.1208  San Sebastian   \n",
       "26       for_sale  12.959844  4.0   3.0  1214.0580          Ponce   \n",
       "31       for_sale  12.323856  5.0   4.0   485.6232          Ponce   \n",
       "...           ...        ...  ...   ...        ...            ...   \n",
       "2209598      sold  12.905182  3.0   2.0   404.6860   Port Orchard   \n",
       "2209602      sold  13.049793  4.0   3.0   323.7488   Port Orchard   \n",
       "2209606      sold  13.514091  4.0   3.0  1456.8696          Allyn   \n",
       "2209607      sold  12.847663  3.0   2.0   890.3092      Bremerton   \n",
       "2209608      sold  12.577636  1.0   1.0   890.3092      Bremerton   \n",
       "\n",
       "               state  zip_code  house_size  \n",
       "16       Puerto Rico     680.0  320.515350  \n",
       "21       Puerto Rico     676.0  278.709000  \n",
       "25       Puerto Rico     685.0  139.354500  \n",
       "26       Puerto Rico     730.0  278.709000  \n",
       "31       Puerto Rico     717.0  148.644800  \n",
       "...              ...       ...         ...  \n",
       "2209598   Washington   98367.0  136.567410  \n",
       "2209602   Washington   98366.0  198.998226  \n",
       "2209606   Washington   98524.0  237.924583  \n",
       "2209607   Washington   98312.0  120.402288  \n",
       "2209608   Washington   98310.0   75.623042  \n",
       "\n",
       "[937411 rows x 9 columns]"
      ]
     },
     "execution_count": 889,
     "metadata": {},
     "output_type": "execute_result"
    }
   ],
   "source": [
    "df_nn = df_100k.copy()\n",
    "df_nn"
   ]
  },
  {
   "cell_type": "code",
   "execution_count": 890,
   "metadata": {},
   "outputs": [],
   "source": [
    "df_nn_final = df_nn[xs.columns.to_list() + [dep_var]]"
   ]
  },
  {
   "cell_type": "code",
   "execution_count": 891,
   "metadata": {},
   "outputs": [
    {
     "data": {
      "text/html": [
       "<div>\n",
       "<style scoped>\n",
       "    .dataframe tbody tr th:only-of-type {\n",
       "        vertical-align: middle;\n",
       "    }\n",
       "\n",
       "    .dataframe tbody tr th {\n",
       "        vertical-align: top;\n",
       "    }\n",
       "\n",
       "    .dataframe thead th {\n",
       "        text-align: right;\n",
       "    }\n",
       "</style>\n",
       "<table border=\"1\" class=\"dataframe\">\n",
       "  <thead>\n",
       "    <tr style=\"text-align: right;\">\n",
       "      <th></th>\n",
       "      <th>zip_code</th>\n",
       "      <th>house_size</th>\n",
       "      <th>city</th>\n",
       "      <th>state</th>\n",
       "      <th>bath</th>\n",
       "      <th>land_size</th>\n",
       "      <th>bed</th>\n",
       "      <th>status</th>\n",
       "      <th>price</th>\n",
       "    </tr>\n",
       "  </thead>\n",
       "  <tbody>\n",
       "    <tr>\n",
       "      <th>16</th>\n",
       "      <td>680.0</td>\n",
       "      <td>320.515350</td>\n",
       "      <td>Mayaguez</td>\n",
       "      <td>Puerto Rico</td>\n",
       "      <td>4.0</td>\n",
       "      <td>890.3092</td>\n",
       "      <td>4.0</td>\n",
       "      <td>for_sale</td>\n",
       "      <td>12.367341</td>\n",
       "    </tr>\n",
       "    <tr>\n",
       "      <th>21</th>\n",
       "      <td>676.0</td>\n",
       "      <td>278.709000</td>\n",
       "      <td>Moca</td>\n",
       "      <td>Puerto Rico</td>\n",
       "      <td>3.0</td>\n",
       "      <td>404.6860</td>\n",
       "      <td>6.0</td>\n",
       "      <td>for_sale</td>\n",
       "      <td>12.013701</td>\n",
       "    </tr>\n",
       "    <tr>\n",
       "      <th>25</th>\n",
       "      <td>685.0</td>\n",
       "      <td>139.354500</td>\n",
       "      <td>San Sebastian</td>\n",
       "      <td>Puerto Rico</td>\n",
       "      <td>2.0</td>\n",
       "      <td>1133.1208</td>\n",
       "      <td>3.0</td>\n",
       "      <td>for_sale</td>\n",
       "      <td>12.449019</td>\n",
       "    </tr>\n",
       "    <tr>\n",
       "      <th>26</th>\n",
       "      <td>730.0</td>\n",
       "      <td>278.709000</td>\n",
       "      <td>Ponce</td>\n",
       "      <td>Puerto Rico</td>\n",
       "      <td>3.0</td>\n",
       "      <td>1214.0580</td>\n",
       "      <td>4.0</td>\n",
       "      <td>for_sale</td>\n",
       "      <td>12.959844</td>\n",
       "    </tr>\n",
       "    <tr>\n",
       "      <th>31</th>\n",
       "      <td>717.0</td>\n",
       "      <td>148.644800</td>\n",
       "      <td>Ponce</td>\n",
       "      <td>Puerto Rico</td>\n",
       "      <td>4.0</td>\n",
       "      <td>485.6232</td>\n",
       "      <td>5.0</td>\n",
       "      <td>for_sale</td>\n",
       "      <td>12.323856</td>\n",
       "    </tr>\n",
       "    <tr>\n",
       "      <th>...</th>\n",
       "      <td>...</td>\n",
       "      <td>...</td>\n",
       "      <td>...</td>\n",
       "      <td>...</td>\n",
       "      <td>...</td>\n",
       "      <td>...</td>\n",
       "      <td>...</td>\n",
       "      <td>...</td>\n",
       "      <td>...</td>\n",
       "    </tr>\n",
       "    <tr>\n",
       "      <th>2209598</th>\n",
       "      <td>98367.0</td>\n",
       "      <td>136.567410</td>\n",
       "      <td>Port Orchard</td>\n",
       "      <td>Washington</td>\n",
       "      <td>2.0</td>\n",
       "      <td>404.6860</td>\n",
       "      <td>3.0</td>\n",
       "      <td>sold</td>\n",
       "      <td>12.905182</td>\n",
       "    </tr>\n",
       "    <tr>\n",
       "      <th>2209602</th>\n",
       "      <td>98366.0</td>\n",
       "      <td>198.998226</td>\n",
       "      <td>Port Orchard</td>\n",
       "      <td>Washington</td>\n",
       "      <td>3.0</td>\n",
       "      <td>323.7488</td>\n",
       "      <td>4.0</td>\n",
       "      <td>sold</td>\n",
       "      <td>13.049793</td>\n",
       "    </tr>\n",
       "    <tr>\n",
       "      <th>2209606</th>\n",
       "      <td>98524.0</td>\n",
       "      <td>237.924583</td>\n",
       "      <td>Allyn</td>\n",
       "      <td>Washington</td>\n",
       "      <td>3.0</td>\n",
       "      <td>1456.8696</td>\n",
       "      <td>4.0</td>\n",
       "      <td>sold</td>\n",
       "      <td>13.514091</td>\n",
       "    </tr>\n",
       "    <tr>\n",
       "      <th>2209607</th>\n",
       "      <td>98312.0</td>\n",
       "      <td>120.402288</td>\n",
       "      <td>Bremerton</td>\n",
       "      <td>Washington</td>\n",
       "      <td>2.0</td>\n",
       "      <td>890.3092</td>\n",
       "      <td>3.0</td>\n",
       "      <td>sold</td>\n",
       "      <td>12.847663</td>\n",
       "    </tr>\n",
       "    <tr>\n",
       "      <th>2209608</th>\n",
       "      <td>98310.0</td>\n",
       "      <td>75.623042</td>\n",
       "      <td>Bremerton</td>\n",
       "      <td>Washington</td>\n",
       "      <td>1.0</td>\n",
       "      <td>890.3092</td>\n",
       "      <td>1.0</td>\n",
       "      <td>sold</td>\n",
       "      <td>12.577636</td>\n",
       "    </tr>\n",
       "  </tbody>\n",
       "</table>\n",
       "<p>937411 rows × 9 columns</p>\n",
       "</div>"
      ],
      "text/plain": [
       "         zip_code  house_size           city        state  bath  land_size  \\\n",
       "16          680.0  320.515350       Mayaguez  Puerto Rico   4.0   890.3092   \n",
       "21          676.0  278.709000           Moca  Puerto Rico   3.0   404.6860   \n",
       "25          685.0  139.354500  San Sebastian  Puerto Rico   2.0  1133.1208   \n",
       "26          730.0  278.709000          Ponce  Puerto Rico   3.0  1214.0580   \n",
       "31          717.0  148.644800          Ponce  Puerto Rico   4.0   485.6232   \n",
       "...           ...         ...            ...          ...   ...        ...   \n",
       "2209598   98367.0  136.567410   Port Orchard   Washington   2.0   404.6860   \n",
       "2209602   98366.0  198.998226   Port Orchard   Washington   3.0   323.7488   \n",
       "2209606   98524.0  237.924583          Allyn   Washington   3.0  1456.8696   \n",
       "2209607   98312.0  120.402288      Bremerton   Washington   2.0   890.3092   \n",
       "2209608   98310.0   75.623042      Bremerton   Washington   1.0   890.3092   \n",
       "\n",
       "         bed    status      price  \n",
       "16       4.0  for_sale  12.367341  \n",
       "21       6.0  for_sale  12.013701  \n",
       "25       3.0  for_sale  12.449019  \n",
       "26       4.0  for_sale  12.959844  \n",
       "31       5.0  for_sale  12.323856  \n",
       "...      ...       ...        ...  \n",
       "2209598  3.0      sold  12.905182  \n",
       "2209602  4.0      sold  13.049793  \n",
       "2209606  4.0      sold  13.514091  \n",
       "2209607  3.0      sold  12.847663  \n",
       "2209608  1.0      sold  12.577636  \n",
       "\n",
       "[937411 rows x 9 columns]"
      ]
     },
     "execution_count": 891,
     "metadata": {},
     "output_type": "execute_result"
    }
   ],
   "source": [
    "df_nn_final"
   ]
  },
  {
   "cell_type": "markdown",
   "metadata": {},
   "source": [
    "for the neural networks, we cannot just use the normal hot encoding, this will use alot more memory and the model can't really find relationships from this kind of categorifying things compared with the Embeddings.\n",
    "\n",
    "Embeddings will allow the features to have more meaning. \"add more explanation here later\"\n",
    "\n",
    "anything lower than 9000 unique values, use Embeddings for the columns that are categories"
   ]
  },
  {
   "cell_type": "code",
   "execution_count": 892,
   "metadata": {},
   "outputs": [],
   "source": [
    "cont_nn, cat_nn = cont_cat_split(df_nn_final, max_card=9000, dep_var=dep_var)"
   ]
  },
  {
   "cell_type": "code",
   "execution_count": 893,
   "metadata": {},
   "outputs": [
    {
     "data": {
      "text/plain": [
       "['zip_code', 'house_size', 'bath', 'land_size', 'bed']"
      ]
     },
     "execution_count": 893,
     "metadata": {},
     "output_type": "execute_result"
    }
   ],
   "source": [
    "cont_nn"
   ]
  },
  {
   "cell_type": "code",
   "execution_count": 894,
   "metadata": {},
   "outputs": [
    {
     "data": {
      "text/plain": [
       "['city', 'state', 'status']"
      ]
     },
     "execution_count": 894,
     "metadata": {},
     "output_type": "execute_result"
    }
   ],
   "source": [
    "cat_nn"
   ]
  },
  {
   "cell_type": "code",
   "execution_count": 895,
   "metadata": {},
   "outputs": [
    {
     "data": {
      "text/plain": [
       "city      11344\n",
       "state        54\n",
       "status        3\n",
       "dtype: int64"
      ]
     },
     "execution_count": 895,
     "metadata": {},
     "output_type": "execute_result"
    }
   ],
   "source": [
    "df_nn_final[cat_nn].nunique()"
   ]
  },
  {
   "cell_type": "markdown",
   "metadata": {},
   "source": [
    "The categories here are lower than 9000 unique values which is desent and doing pretty well you know "
   ]
  },
  {
   "cell_type": "code",
   "execution_count": 896,
   "metadata": {},
   "outputs": [],
   "source": [
    "procs_nn = [Categorify, FillMissing, Normalize]\n",
    "to_nn = TabularPandas(df_nn_final, procs_nn, cat_nn,\n",
    "                      cont_nn, splits=splits, y_names=dep_var)"
   ]
  },
  {
   "cell_type": "code",
   "execution_count": 897,
   "metadata": {},
   "outputs": [],
   "source": [
    "dls = to_nn.dataloaders(1024) # since tabular data do not use much GPU RAM"
   ]
  },
  {
   "cell_type": "code",
   "execution_count": 898,
   "metadata": {},
   "outputs": [],
   "source": [
    "y = to_nn.train.y"
   ]
  },
  {
   "cell_type": "code",
   "execution_count": 899,
   "metadata": {},
   "outputs": [
    {
     "data": {
      "text/plain": [
       "(12.0002775, 13.65195)"
      ]
     },
     "execution_count": 899,
     "metadata": {},
     "output_type": "execute_result"
    }
   ],
   "source": [
    "y.min(),y.max()"
   ]
  },
  {
   "cell_type": "code",
   "execution_count": 900,
   "metadata": {},
   "outputs": [],
   "source": [
    "learn = tabular_learner(dls, y_range=(12,13.7), layers=[100,50],\n",
    "                        n_out= 1, loss_func=F.mse_loss\n",
    "                        )"
   ]
  },
  {
   "cell_type": "markdown",
   "metadata": {},
   "source": [
    "so what is inside a neural network ? let's see"
   ]
  },
  {
   "cell_type": "code",
   "execution_count": 901,
   "metadata": {},
   "outputs": [
    {
     "data": {
      "text/plain": [
       "TabularModel(\n",
       "  (embeds): ModuleList(\n",
       "    (0): Embedding(11345, 298)\n",
       "    (1): Embedding(55, 15)\n",
       "    (2): Embedding(4, 3)\n",
       "  )\n",
       "  (emb_drop): Dropout(p=0.0, inplace=False)\n",
       "  (bn_cont): BatchNorm1d(5, eps=1e-05, momentum=0.1, affine=True, track_running_stats=True)\n",
       "  (layers): Sequential(\n",
       "    (0): LinBnDrop(\n",
       "      (0): Linear(in_features=321, out_features=100, bias=False)\n",
       "      (1): ReLU(inplace=True)\n",
       "      (2): BatchNorm1d(100, eps=1e-05, momentum=0.1, affine=True, track_running_stats=True)\n",
       "    )\n",
       "    (1): LinBnDrop(\n",
       "      (0): Linear(in_features=100, out_features=50, bias=False)\n",
       "      (1): ReLU(inplace=True)\n",
       "      (2): BatchNorm1d(50, eps=1e-05, momentum=0.1, affine=True, track_running_stats=True)\n",
       "    )\n",
       "    (2): LinBnDrop(\n",
       "      (0): Linear(in_features=50, out_features=1, bias=True)\n",
       "    )\n",
       "    (3): fastai.layers.SigmoidRange(low=12, high=13.7)\n",
       "  )\n",
       ")"
      ]
     },
     "execution_count": 901,
     "metadata": {},
     "output_type": "execute_result"
    }
   ],
   "source": [
    "learn.model"
   ]
  },
  {
   "cell_type": "code",
   "execution_count": 902,
   "metadata": {},
   "outputs": [
    {
     "data": {
      "text/html": [
       "\n",
       "<style>\n",
       "    /* Turns off some styling */\n",
       "    progress {\n",
       "        /* gets rid of default border in Firefox and Opera. */\n",
       "        border: none;\n",
       "        /* Needs to be in here for Safari polyfill so background images work as expected. */\n",
       "        background-size: auto;\n",
       "    }\n",
       "    progress:not([value]), progress:not([value])::-webkit-progress-bar {\n",
       "        background: repeating-linear-gradient(45deg, #7e7e7e, #7e7e7e 10px, #5c5c5c 10px, #5c5c5c 20px);\n",
       "    }\n",
       "    .progress-bar-interrupted, .progress-bar-interrupted::-webkit-progress-bar {\n",
       "        background: #F44336;\n",
       "    }\n",
       "</style>\n"
      ],
      "text/plain": [
       "<IPython.core.display.HTML object>"
      ]
     },
     "metadata": {},
     "output_type": "display_data"
    },
    {
     "data": {
      "text/html": [],
      "text/plain": [
       "<IPython.core.display.HTML object>"
      ]
     },
     "metadata": {},
     "output_type": "display_data"
    },
    {
     "data": {
      "text/plain": [
       "SuggestedLRs(valley=0.0020892962347716093, slide=0.05754399299621582)"
      ]
     },
     "execution_count": 902,
     "metadata": {},
     "output_type": "execute_result"
    },
    {
     "data": {
      "image/png": "[encoded data removed]",
      "text/plain": [
       "<Figure size 1000x600 with 1 Axes>"
      ]
     },
     "metadata": {
      "needs_background": "light"
     },
     "output_type": "display_data"
    }
   ],
   "source": [
    "learn.lr_find(suggest_funcs=(valley,slide))"
   ]
  },
  {
   "cell_type": "code",
   "execution_count": 903,
   "metadata": {},
   "outputs": [
    {
     "data": {
      "text/html": [
       "\n",
       "<style>\n",
       "    /* Turns off some styling */\n",
       "    progress {\n",
       "        /* gets rid of default border in Firefox and Opera. */\n",
       "        border: none;\n",
       "        /* Needs to be in here for Safari polyfill so background images work as expected. */\n",
       "        background-size: auto;\n",
       "    }\n",
       "    progress:not([value]), progress:not([value])::-webkit-progress-bar {\n",
       "        background: repeating-linear-gradient(45deg, #7e7e7e, #7e7e7e 10px, #5c5c5c 10px, #5c5c5c 20px);\n",
       "    }\n",
       "    .progress-bar-interrupted, .progress-bar-interrupted::-webkit-progress-bar {\n",
       "        background: #F44336;\n",
       "    }\n",
       "</style>\n"
      ],
      "text/plain": [
       "<IPython.core.display.HTML object>"
      ]
     },
     "metadata": {},
     "output_type": "display_data"
    },
    {
     "data": {
      "text/html": [
       "<table border=\"1\" class=\"dataframe\">\n",
       "  <thead>\n",
       "    <tr style=\"text-align: left;\">\n",
       "      <th>epoch</th>\n",
       "      <th>train_loss</th>\n",
       "      <th>valid_loss</th>\n",
       "      <th>time</th>\n",
       "    </tr>\n",
       "  </thead>\n",
       "  <tbody>\n",
       "    <tr>\n",
       "      <td>0</td>\n",
       "      <td>0.060585</td>\n",
       "      <td>0.063738</td>\n",
       "      <td>00:09</td>\n",
       "    </tr>\n",
       "    <tr>\n",
       "      <td>1</td>\n",
       "      <td>0.063716</td>\n",
       "      <td>0.066368</td>\n",
       "      <td>00:09</td>\n",
       "    </tr>\n",
       "    <tr>\n",
       "      <td>2</td>\n",
       "      <td>0.064450</td>\n",
       "      <td>0.067249</td>\n",
       "      <td>00:09</td>\n",
       "    </tr>\n",
       "    <tr>\n",
       "      <td>3</td>\n",
       "      <td>0.064100</td>\n",
       "      <td>0.065327</td>\n",
       "      <td>00:08</td>\n",
       "    </tr>\n",
       "    <tr>\n",
       "      <td>4</td>\n",
       "      <td>0.062123</td>\n",
       "      <td>0.065299</td>\n",
       "      <td>00:09</td>\n",
       "    </tr>\n",
       "    <tr>\n",
       "      <td>5</td>\n",
       "      <td>0.060243</td>\n",
       "      <td>0.062681</td>\n",
       "      <td>00:08</td>\n",
       "    </tr>\n",
       "    <tr>\n",
       "      <td>6</td>\n",
       "      <td>0.056700</td>\n",
       "      <td>0.058991</td>\n",
       "      <td>00:08</td>\n",
       "    </tr>\n",
       "    <tr>\n",
       "      <td>7</td>\n",
       "      <td>0.052448</td>\n",
       "      <td>0.056129</td>\n",
       "      <td>00:08</td>\n",
       "    </tr>\n",
       "    <tr>\n",
       "      <td>8</td>\n",
       "      <td>0.048505</td>\n",
       "      <td>0.052281</td>\n",
       "      <td>00:08</td>\n",
       "    </tr>\n",
       "    <tr>\n",
       "      <td>9</td>\n",
       "      <td>0.045303</td>\n",
       "      <td>0.050552</td>\n",
       "      <td>00:09</td>\n",
       "    </tr>\n",
       "  </tbody>\n",
       "</table>"
      ],
      "text/plain": [
       "<IPython.core.display.HTML object>"
      ]
     },
     "metadata": {},
     "output_type": "display_data"
    }
   ],
   "source": [
    "learn = tabular_learner(dls, y_range=(12,13.7), layers=[100,50],\n",
    "                        n_out= 1, loss_func=F.mse_loss\n",
    "                        )\n",
    "learn.fit_one_cycle(10, 1e-1, wd=0.08) # weight decay\n"
   ]
  },
  {
   "cell_type": "markdown",
   "metadata": {},
   "source": [
    "experimenting\n",
    "\n",
    "valid_loss  ||   wd \n",
    "\n",
    "0.238735    || 0.01\n",
    "\n",
    "0.258378    || 0.02\n",
    "\n",
    "0.220982    || 0.03\n",
    "\n",
    "0.226851    || 0.06\n",
    "\n",
    "0.218231    || 0.08\n",
    "\n",
    "\n"
   ]
  },
  {
   "cell_type": "code",
   "execution_count": 904,
   "metadata": {},
   "outputs": [
    {
     "data": {
      "text/html": [
       "\n",
       "<style>\n",
       "    /* Turns off some styling */\n",
       "    progress {\n",
       "        /* gets rid of default border in Firefox and Opera. */\n",
       "        border: none;\n",
       "        /* Needs to be in here for Safari polyfill so background images work as expected. */\n",
       "        background-size: auto;\n",
       "    }\n",
       "    progress:not([value]), progress:not([value])::-webkit-progress-bar {\n",
       "        background: repeating-linear-gradient(45deg, #7e7e7e, #7e7e7e 10px, #5c5c5c 10px, #5c5c5c 20px);\n",
       "    }\n",
       "    .progress-bar-interrupted, .progress-bar-interrupted::-webkit-progress-bar {\n",
       "        background: #F44336;\n",
       "    }\n",
       "</style>\n"
      ],
      "text/plain": [
       "<IPython.core.display.HTML object>"
      ]
     },
     "metadata": {},
     "output_type": "display_data"
    },
    {
     "data": {
      "text/html": [],
      "text/plain": [
       "<IPython.core.display.HTML object>"
      ]
     },
     "metadata": {},
     "output_type": "display_data"
    },
    {
     "data": {
      "text/plain": [
       "0.224837"
      ]
     },
     "execution_count": 904,
     "metadata": {},
     "output_type": "execute_result"
    }
   ],
   "source": [
    "preds, targets = learn.get_preds()\n",
    "\n",
    "r_mse(preds, targets)"
   ]
  },
  {
   "cell_type": "code",
   "execution_count": 905,
   "metadata": {},
   "outputs": [],
   "source": [
    "# export the whole model\n",
    "learn.export('nn.pkl')\n",
    "save_pickle('./to_nn.pkl',to_nn)"
   ]
  },
  {
   "cell_type": "markdown",
   "metadata": {},
   "source": [
    "## Testing the NN on the Test Set"
   ]
  },
  {
   "cell_type": "code",
   "execution_count": 906,
   "metadata": {},
   "outputs": [],
   "source": [
    "xs_test = df_test.drop(columns=['price'])\n",
    "test_y_tars = df_test['price']"
   ]
  },
  {
   "cell_type": "code",
   "execution_count": 907,
   "metadata": {},
   "outputs": [],
   "source": [
    "dl_test = learn.dls.test_dl(xs_test)\n"
   ]
  },
  {
   "cell_type": "code",
   "execution_count": 908,
   "metadata": {},
   "outputs": [
    {
     "data": {
      "text/html": [
       "\n",
       "<style>\n",
       "    /* Turns off some styling */\n",
       "    progress {\n",
       "        /* gets rid of default border in Firefox and Opera. */\n",
       "        border: none;\n",
       "        /* Needs to be in here for Safari polyfill so background images work as expected. */\n",
       "        background-size: auto;\n",
       "    }\n",
       "    progress:not([value]), progress:not([value])::-webkit-progress-bar {\n",
       "        background: repeating-linear-gradient(45deg, #7e7e7e, #7e7e7e 10px, #5c5c5c 10px, #5c5c5c 20px);\n",
       "    }\n",
       "    .progress-bar-interrupted, .progress-bar-interrupted::-webkit-progress-bar {\n",
       "        background: #F44336;\n",
       "    }\n",
       "</style>\n"
      ],
      "text/plain": [
       "<IPython.core.display.HTML object>"
      ]
     },
     "metadata": {},
     "output_type": "display_data"
    },
    {
     "data": {
      "text/html": [],
      "text/plain": [
       "<IPython.core.display.HTML object>"
      ]
     },
     "metadata": {},
     "output_type": "display_data"
    }
   ],
   "source": [
    "# the test set shows you how well you are doing\n",
    "# i can say we are doing pretty well\n",
    "preds , _ = learn.get_preds(dl=dl_test)\n"
   ]
  },
  {
   "cell_type": "code",
   "execution_count": 909,
   "metadata": {},
   "outputs": [
    {
     "data": {
      "text/plain": [
       "0.208291"
      ]
     },
     "execution_count": 909,
     "metadata": {},
     "output_type": "execute_result"
    }
   ],
   "source": [
    "r_mse(to_np(preds.squeeze()),test_y_tars)"
   ]
  },
  {
   "cell_type": "markdown",
   "metadata": {},
   "source": [
    "this result is good as well, so we now have 2 models, random forests and the deep learning neural network"
   ]
  },
  {
   "cell_type": "markdown",
   "metadata": {},
   "source": [
    "## Using XGboost"
   ]
  },
  {
   "cell_type": "code",
   "execution_count": 910,
   "metadata": {},
   "outputs": [],
   "source": [
    "from xgboost import XGBRegressor\n",
    "from sklearn.model_selection import KFold"
   ]
  },
  {
   "cell_type": "code",
   "execution_count": 911,
   "metadata": {},
   "outputs": [],
   "source": [
    "to = load_pickle('./to_house.pkl')\n",
    "y = to.train.y\n",
    "valid_y = to.valid.y\n",
    "xs = load_pickle('./xs_final_house.pkl')\n",
    "valid_xs = load_pickle('./valid_xs_final_house.pkl')"
   ]
  },
  {
   "cell_type": "code",
   "execution_count": 912,
   "metadata": {},
   "outputs": [],
   "source": [
    "\n",
    "def xgboost(xs,y,learning_rate=0.3, n_estimators=700,\n",
    "                  max_depth=10, subsample=0.9, colsample_bytree=0.7,min_child_weight=3,**params):\n",
    "  return XGBRegressor(random_state=42, n_jobs=-1, \n",
    "                       learning_rate= learning_rate, n_estimators= n_estimators,\n",
    "                       max_depth=max_depth, subsample=subsample, colsample_bytree=colsample_bytree,\n",
    "                       min_child_weight = min_child_weight, device='cuda').fit(xs,y)"
   ]
  },
  {
   "cell_type": "code",
   "execution_count": 913,
   "metadata": {},
   "outputs": [],
   "source": [
    "m_rf = rf(xs,y)"
   ]
  },
  {
   "cell_type": "code",
   "execution_count": 914,
   "metadata": {},
   "outputs": [],
   "source": [
    "# i think we can do better\n",
    "# use more trees\n",
    "xgb = xgboost(xs, y, learning_rate=0.02,\n",
    "              n_estimators=11000, colsample_bytree=0.7, subsample=0.7,\n",
    "              max_depth=10, min_child_weight=3)\n"
   ]
  },
  {
   "cell_type": "code",
   "execution_count": 915,
   "metadata": {},
   "outputs": [],
   "source": [
    "preds_xgb = xgb.predict(valid_xs)\n",
    "preds_rf = m_rf.predict(valid_xs)"
   ]
  },
  {
   "cell_type": "code",
   "execution_count": 916,
   "metadata": {},
   "outputs": [
    {
     "data": {
      "text/plain": [
       "(0.218324, 0.211628)"
      ]
     },
     "execution_count": 916,
     "metadata": {},
     "output_type": "execute_result"
    }
   ],
   "source": [
    "r_mse(preds_rf,valid_y),r_mse(preds_xgb,valid_y)"
   ]
  },
  {
   "cell_type": "markdown",
   "metadata": {},
   "source": [
    "## finding the best settings for  XGBOOST\n",
    "xgboost 1000 trees, 0.05 --> 0.40\n",
    "\n",
    "xgboost 700 trees, 0.02 --> 0.409153\n",
    "\n",
    "xgboost(xs,y, learning_rate=0.02,n_estimators=1200,max_depth=12) -- 0.403273\n",
    "\n",
    "xgboost(xs,y, learning_rate=0.02,n_estimators=1400,colsample_bytree=0.9,) -- 0.400886\n",
    "\n",
    "xgboost(xs,y, learning_rate=0.02,n_estimators=1396,colsample_bytree=0.9,)"
   ]
  },
  {
   "cell_type": "code",
   "execution_count": 917,
   "metadata": {},
   "outputs": [
    {
     "data": {
      "text/plain": [
       "(0.214239, 0.205222)"
      ]
     },
     "execution_count": 917,
     "metadata": {},
     "output_type": "execute_result"
    }
   ],
   "source": [
    "dl_test = to.dataloaders().test_dl(df_test)\n",
    "xs_test, y_test = dl_test.train.xs, dl_test.train.y\n",
    "xs_test = xs_test[xs.columns.to_list()]\n",
    "# the test set shows you how well you are doing\n",
    "# i can say we are doing pretty well\n",
    "m_rmse(m_rf,xs_test, y_test),m_rmse(xgb,xs_test, y_test)"
   ]
  },
  {
   "cell_type": "markdown",
   "metadata": {},
   "source": [
    "# Final Results"
   ]
  },
  {
   "cell_type": "code",
   "execution_count": 918,
   "metadata": {},
   "outputs": [],
   "source": [
    "# trees data -- LOAD AND TRAIN THE TREES\n",
    "\n",
    "to = load_pickle('./to_house.pkl')\n",
    "y = to.train.y\n",
    "valid_y = to.valid.y\n",
    "xs = load_pickle('./xs_final_house.pkl')\n",
    "valid_xs = load_pickle('./valid_xs_final_house.pkl')"
   ]
  },
  {
   "cell_type": "code",
   "execution_count": 919,
   "metadata": {},
   "outputs": [],
   "source": [
    "xgb = xgboost(xs, y, learning_rate=0.02,\n",
    "              n_estimators=12000, colsample_bytree=0.7, subsample=0.7,\n",
    "              max_depth=10)"
   ]
  },
  {
   "cell_type": "code",
   "execution_count": 920,
   "metadata": {},
   "outputs": [],
   "source": [
    "m_rf = rf(xs, y)"
   ]
  },
  {
   "cell_type": "code",
   "execution_count": 921,
   "metadata": {},
   "outputs": [
    {
     "data": {
      "text/html": [
       "\n",
       "<style>\n",
       "    /* Turns off some styling */\n",
       "    progress {\n",
       "        /* gets rid of default border in Firefox and Opera. */\n",
       "        border: none;\n",
       "        /* Needs to be in here for Safari polyfill so background images work as expected. */\n",
       "        background-size: auto;\n",
       "    }\n",
       "    progress:not([value]), progress:not([value])::-webkit-progress-bar {\n",
       "        background: repeating-linear-gradient(45deg, #7e7e7e, #7e7e7e 10px, #5c5c5c 10px, #5c5c5c 20px);\n",
       "    }\n",
       "    .progress-bar-interrupted, .progress-bar-interrupted::-webkit-progress-bar {\n",
       "        background: #F44336;\n",
       "    }\n",
       "</style>\n"
      ],
      "text/plain": [
       "<IPython.core.display.HTML object>"
      ]
     },
     "metadata": {},
     "output_type": "display_data"
    },
    {
     "data": {
      "text/html": [],
      "text/plain": [
       "<IPython.core.display.HTML object>"
      ]
     },
     "metadata": {},
     "output_type": "display_data"
    },
    {
     "name": "stdout",
     "output_type": "stream",
     "text": [
      "NN Test Result: 0.208291 ||  Random Forest Test Result: 0.212776  || XGBOOST Test Result: 0.205824 \n"
     ]
    }
   ],
   "source": [
    "# TESTING THE BOOSTING AND BAGGING METHODS\n",
    "\n",
    "\n",
    "dl_test = to.dataloaders().test_dl(df_test)\n",
    "xs_test, y_test = dl_test.train.xs, dl_test.train.y\n",
    "xs_test = xs_test[xs.columns.to_list()]\n",
    "\n",
    "RF_test = m_rmse(m_rf, xs_test, y_test)\n",
    "XBG_test = m_rmse(xgb, xs_test, y_test)\n",
    "\n",
    "\n",
    "# neural network\n",
    "learner = load_learner('nn.pkl')\n",
    "to_nn = load_pickle('./to_nn.pkl')\n",
    "\n",
    "nn_xs_test = df_test.drop(columns=['price'])\n",
    "nn_targets_test = df_test['price']\n",
    "dl_nn_test = learner.dls.test_dl(nn_xs_test)\n",
    "\n",
    "# the test set shows you how well you are doing\n",
    "# i can say we are doing pretty well\n",
    "preds, _ = learner.get_preds(dl=dl_nn_test)\n",
    "\n",
    "nn_test_result = r_mse(to_np(preds.squeeze()), nn_targets_test)\n",
    "\n",
    "print(f'NN Test Result: { nn_test_result } ||  Random Forest Test Result: { RF_test  }  || XGBOOST Test Result: { XBG_test } ')"
   ]
  },
  {
   "cell_type": "markdown",
   "metadata": {},
   "source": [
    "### Trying the NN embedding on the random forest model and on the XGBoost\n",
    "\n",
    "this shows that we need to clean the data even further"
   ]
  },
  {
   "cell_type": "code",
   "execution_count": 922,
   "metadata": {},
   "outputs": [],
   "source": [
    "embed_xs , embed_y = to_nn.train.xs , to_nn.train.y\n",
    "embed_valid_xs , embed_valid_y = to_nn.valid.xs , to_nn.valid.y\n",
    "\n"
   ]
  },
  {
   "cell_type": "code",
   "execution_count": 923,
   "metadata": {},
   "outputs": [],
   "source": [
    "xgb = xgboost(embed_xs, embed_y, learning_rate=0.02,\n",
    "              n_estimators=12000, colsample_bytree=0.7, subsample=0.7,\n",
    "              max_depth=10)\n",
    "m_rf = rf(embed_xs, embed_y)"
   ]
  },
  {
   "cell_type": "code",
   "execution_count": 924,
   "metadata": {},
   "outputs": [
    {
     "data": {
      "text/plain": [
       "(0.211662, 0.218162)"
      ]
     },
     "execution_count": 924,
     "metadata": {},
     "output_type": "execute_result"
    }
   ],
   "source": [
    "m_rmse(xgb,embed_valid_xs, embed_valid_y),m_rmse(m_rf,embed_valid_xs, embed_valid_y)"
   ]
  },
  {
   "cell_type": "code",
   "execution_count": 925,
   "metadata": {},
   "outputs": [],
   "source": [
    "embeds_test = dl_nn_test.train.xs"
   ]
  },
  {
   "cell_type": "code",
   "execution_count": 926,
   "metadata": {},
   "outputs": [
    {
     "data": {
      "text/plain": [
       "(0.2155, 0.207143)"
      ]
     },
     "execution_count": 926,
     "metadata": {},
     "output_type": "execute_result"
    }
   ],
   "source": [
    "m_rmse(m_rf,embeds_test, nn_targets_test), m_rmse(xgb,embeds_test, nn_targets_test), "
   ]
  },
  {
   "cell_type": "code",
   "execution_count": 927,
   "metadata": {},
   "outputs": [],
   "source": [
    "def tree_load_data():\n",
    "    \n",
    "    \"\"\"\n",
    "    Loads the data for the trees in order to train them using it\n",
    "    future addition may include adding the actual df, then making the training set\n",
    "    and the validation set\n",
    "\n",
    "    Returns:\n",
    "        xs: training data\n",
    "        y: training target \n",
    "        valid_xs: validation data\n",
    "        valid_y: validation target \n",
    "        xs_test: testings data,\n",
    "        y_test = testing target\n",
    "        \n",
    "    \"\"\"\n",
    "\n",
    "    # trees data -- LOAD AND TRAIN THE TREES\n",
    "    to = load_pickle('./to_house.pkl')\n",
    "    y = to.train.y\n",
    "    valid_y = to.valid.y\n",
    "    xs = load_pickle('./xs_final_house.pkl')\n",
    "    valid_xs = load_pickle('./valid_xs_final_house.pkl')\n",
    "\n",
    "    dl_test = to.dataloaders().test_dl(df_test)\n",
    "    xs_test, y_test = dl_test.train.xs, dl_test.train.y\n",
    "    xs_test = xs_test[xs.columns.to_list()]\n",
    "    data = dict(\n",
    "                xs = xs,\n",
    "                y = y,\n",
    "                valid_xs = valid_xs,\n",
    "                valid_y = valid_y,\n",
    "                xs_test = xs_test,\n",
    "                y_test = y_test)\n",
    "    return data"
   ]
  },
  {
   "cell_type": "code",
   "execution_count": 928,
   "metadata": {},
   "outputs": [],
   "source": [
    "def train_and_load_tree(xs, y):\n",
    "  \"\"\"\n",
    "  This function should train and return to us train XGBOOST and Random Forests\n",
    "  by training them on the data we pass to them. \n",
    "  \"\"\"\n",
    "  \n",
    "  xgb = xgboost(xs, y, learning_rate=0.02,\n",
    "              n_estimators=700, colsample_bytree=0.7, subsample=0.7,\n",
    "              max_depth=10)\n",
    "  m_rf = rf(xs, y)  \n",
    "  \n",
    "  data = dict(xgb=xgb, rft = m_rf)\n",
    "  \n",
    "  return data"
   ]
  },
  {
   "cell_type": "code",
   "execution_count": 929,
   "metadata": {},
   "outputs": [],
   "source": [
    "def nn():\n",
    "  # neural network\n",
    "  learner = load_learner('nn.pkl')\n",
    "  to_nn = load_pickle('./to_nn.pkl') # can be used later for it's embeddings\n",
    "\n",
    "  nn_xs_test = df_test.drop(columns=['price'])\n",
    "  nn_targets_test = df_test['price']\n",
    "  dl_nn_test = learner.dls.test_dl(nn_xs_test)\n",
    "  \n",
    "  data = dict(\n",
    "    learner = learner,\n",
    "    dl = dl_nn_test,\n",
    "    to_nn = to_nn\n",
    "  )\n",
    "  return data"
   ]
  },
  {
   "cell_type": "code",
   "execution_count": 930,
   "metadata": {},
   "outputs": [],
   "source": [
    "nn = nn()\n",
    "data = tree_load_data()"
   ]
  },
  {
   "cell_type": "code",
   "execution_count": 931,
   "metadata": {},
   "outputs": [],
   "source": [
    "tree_models = train_and_load_tree(data['xs'], data['y'])\n"
   ]
  },
  {
   "cell_type": "code",
   "execution_count": 932,
   "metadata": {},
   "outputs": [
    {
     "data": {
      "text/html": [
       "\n",
       "<style>\n",
       "    /* Turns off some styling */\n",
       "    progress {\n",
       "        /* gets rid of default border in Firefox and Opera. */\n",
       "        border: none;\n",
       "        /* Needs to be in here for Safari polyfill so background images work as expected. */\n",
       "        background-size: auto;\n",
       "    }\n",
       "    progress:not([value]), progress:not([value])::-webkit-progress-bar {\n",
       "        background: repeating-linear-gradient(45deg, #7e7e7e, #7e7e7e 10px, #5c5c5c 10px, #5c5c5c 20px);\n",
       "    }\n",
       "    .progress-bar-interrupted, .progress-bar-interrupted::-webkit-progress-bar {\n",
       "        background: #F44336;\n",
       "    }\n",
       "</style>\n"
      ],
      "text/plain": [
       "<IPython.core.display.HTML object>"
      ]
     },
     "metadata": {},
     "output_type": "display_data"
    },
    {
     "data": {
      "text/html": [],
      "text/plain": [
       "<IPython.core.display.HTML object>"
      ]
     },
     "metadata": {},
     "output_type": "display_data"
    }
   ],
   "source": [
    "preds_nn, _ = nn['learner'].get_preds(dl=nn['dl'])\n",
    "preds_nn = to_np(preds_nn.squeeze())\n",
    "pred_rf = tree_models['rft'].predict(data['xs_test'])\n",
    "pred_xgb = tree_models['xgb'].predict(data['xs_test'])\n"
   ]
  },
  {
   "cell_type": "code",
   "execution_count": 933,
   "metadata": {},
   "outputs": [
    {
     "data": {
      "text/plain": [
       "(0.208291, 0.215218, 0.214723)"
      ]
     },
     "execution_count": 933,
     "metadata": {},
     "output_type": "execute_result"
    }
   ],
   "source": [
    "r_mse(preds_nn, data['y_test']), r_mse(pred_rf,data['y_test']), r_mse(pred_xgb,data['y_test'])"
   ]
  },
  {
   "cell_type": "code",
   "execution_count": 934,
   "metadata": {},
   "outputs": [
    {
     "data": {
      "text/plain": [
       "0.202169"
      ]
     },
     "execution_count": 934,
     "metadata": {},
     "output_type": "execute_result"
    }
   ],
   "source": [
    "\n",
    "combined_preds = [preds_nn, pred_rf, pred_xgb]\n",
    "preds  = np.stack(combined_preds).mean(0)\n",
    "y_test = data['y_test']\n",
    "r_mse(preds,y_test)"
   ]
  },
  {
   "cell_type": "code",
   "execution_count": 935,
   "metadata": {},
   "outputs": [
    {
     "name": "stdout",
     "output_type": "stream",
     "text": [
      "Weighted Ensemble RMSLE: 0.200306\n"
     ]
    }
   ],
   "source": [
    "combined_predictions = [\n",
    "    preds_nn * 0.5,\n",
    "    pred_rf * 0.25,\n",
    "    pred_xgb * 0.25,\n",
    "]\n",
    "\n",
    "# Compute the weighted average\n",
    "preds_weighted = np.sum(combined_predictions, axis=0)\n",
    "\n",
    "# Calculate RMSLE of the ensemble\n",
    "ensemble_rmsle = r_mse(preds_weighted, y_test)\n",
    "print(f\"Weighted Ensemble RMSLE: {ensemble_rmsle}\")\n"
   ]
  },
  {
   "cell_type": "code",
   "execution_count": 936,
   "metadata": {},
   "outputs": [
    {
     "data": {
      "text/plain": [
       "count    947711.000000\n",
       "mean     403352.334221\n",
       "std      167939.057155\n",
       "min      162800.000000\n",
       "25%      269900.000000\n",
       "50%      370000.000000\n",
       "75%      506050.500000\n",
       "max      849115.000000\n",
       "Name: price, dtype: float64"
      ]
     },
     "execution_count": 936,
     "metadata": {},
     "output_type": "execute_result"
    }
   ],
   "source": [
    "np.exp(df.price).describe()"
   ]
  },
  {
   "cell_type": "code",
   "execution_count": 937,
   "metadata": {},
   "outputs": [
    {
     "data": {
      "text/plain": [
       "['status',\n",
       " 'price',\n",
       " 'bed',\n",
       " 'bath',\n",
       " 'land_size',\n",
       " 'city',\n",
       " 'state',\n",
       " 'zip_code',\n",
       " 'house_size']"
      ]
     },
     "execution_count": 937,
     "metadata": {},
     "output_type": "execute_result"
    }
   ],
   "source": [
    "df.columns.to_list()"
   ]
  },
  {
   "cell_type": "code",
   "execution_count": 938,
   "metadata": {},
   "outputs": [
    {
     "data": {
      "text/plain": [
       "array(['Mayaguez', 'Moca', 'San Sebastian', ..., 'Decatur Island', 'Stuart Island', 'Bow'], dtype=object)"
      ]
     },
     "execution_count": 938,
     "metadata": {},
     "output_type": "execute_result"
    }
   ],
   "source": [
    "df_100k.city.unique()"
   ]
  },
  {
   "cell_type": "code",
   "execution_count": 939,
   "metadata": {},
   "outputs": [
    {
     "data": {
      "text/html": [
       "<div>\n",
       "<style scoped>\n",
       "    .dataframe tbody tr th:only-of-type {\n",
       "        vertical-align: middle;\n",
       "    }\n",
       "\n",
       "    .dataframe tbody tr th {\n",
       "        vertical-align: top;\n",
       "    }\n",
       "\n",
       "    .dataframe thead th {\n",
       "        text-align: right;\n",
       "    }\n",
       "</style>\n",
       "<table border=\"1\" class=\"dataframe\">\n",
       "  <thead>\n",
       "    <tr style=\"text-align: right;\">\n",
       "      <th></th>\n",
       "      <th>status</th>\n",
       "      <th>bed</th>\n",
       "      <th>bath</th>\n",
       "      <th>land_size</th>\n",
       "      <th>city</th>\n",
       "      <th>state</th>\n",
       "      <th>zip_code</th>\n",
       "      <th>house_size</th>\n",
       "    </tr>\n",
       "  </thead>\n",
       "  <tbody>\n",
       "    <tr>\n",
       "      <th>0</th>\n",
       "      <td>for_sale</td>\n",
       "      <td>6</td>\n",
       "      <td>3</td>\n",
       "      <td>404.686</td>\n",
       "      <td>Moca</td>\n",
       "      <td>Puerto Rico</td>\n",
       "      <td>676.0</td>\n",
       "      <td>278.709</td>\n",
       "    </tr>\n",
       "  </tbody>\n",
       "</table>\n",
       "</div>"
      ],
      "text/plain": [
       "     status  bed  bath  land_size  city        state  zip_code  house_size\n",
       "0  for_sale    6     3    404.686  Moca  Puerto Rico     676.0     278.709"
      ]
     },
     "execution_count": 939,
     "metadata": {},
     "output_type": "execute_result"
    }
   ],
   "source": [
    "data = dict(\n",
    "    status='for_sale',\n",
    "    bed=6,\n",
    "    bath=3,\n",
    "    land_size=404.686,\n",
    "    city='Moca',\n",
    "    state='Puerto Rico',\n",
    "    zip_code=676.0,\n",
    "    house_size=278.709,\n",
    ")\n",
    "one_prediction = pd.DataFrame([data])\n",
    "one_prediction"
   ]
  },
  {
   "cell_type": "code",
   "execution_count": 940,
   "metadata": {},
   "outputs": [
    {
     "data": {
      "text/html": [
       "<div>\n",
       "<style scoped>\n",
       "    .dataframe tbody tr th:only-of-type {\n",
       "        vertical-align: middle;\n",
       "    }\n",
       "\n",
       "    .dataframe tbody tr th {\n",
       "        vertical-align: top;\n",
       "    }\n",
       "\n",
       "    .dataframe thead th {\n",
       "        text-align: right;\n",
       "    }\n",
       "</style>\n",
       "<table border=\"1\" class=\"dataframe\">\n",
       "  <thead>\n",
       "    <tr style=\"text-align: right;\">\n",
       "      <th></th>\n",
       "      <th>status</th>\n",
       "      <th>price</th>\n",
       "      <th>bed</th>\n",
       "      <th>bath</th>\n",
       "      <th>land_size</th>\n",
       "      <th>city</th>\n",
       "      <th>state</th>\n",
       "      <th>zip_code</th>\n",
       "      <th>house_size</th>\n",
       "    </tr>\n",
       "  </thead>\n",
       "  <tbody>\n",
       "    <tr>\n",
       "      <th>21</th>\n",
       "      <td>for_sale</td>\n",
       "      <td>12.013701</td>\n",
       "      <td>6.0</td>\n",
       "      <td>3.0</td>\n",
       "      <td>404.686</td>\n",
       "      <td>Moca</td>\n",
       "      <td>Puerto Rico</td>\n",
       "      <td>676.0</td>\n",
       "      <td>278.709</td>\n",
       "    </tr>\n",
       "  </tbody>\n",
       "</table>\n",
       "</div>"
      ],
      "text/plain": [
       "      status      price  bed  bath  land_size  city        state  zip_code  \\\n",
       "21  for_sale  12.013701  6.0   3.0    404.686  Moca  Puerto Rico     676.0   \n",
       "\n",
       "    house_size  \n",
       "21     278.709  "
      ]
     },
     "execution_count": 940,
     "metadata": {},
     "output_type": "execute_result"
    }
   ],
   "source": [
    "df.iloc[[1]]"
   ]
  },
  {
   "cell_type": "code",
   "execution_count": 941,
   "metadata": {},
   "outputs": [
    {
     "data": {
      "text/html": [
       "<div>\n",
       "<style scoped>\n",
       "    .dataframe tbody tr th:only-of-type {\n",
       "        vertical-align: middle;\n",
       "    }\n",
       "\n",
       "    .dataframe tbody tr th {\n",
       "        vertical-align: top;\n",
       "    }\n",
       "\n",
       "    .dataframe thead th {\n",
       "        text-align: right;\n",
       "    }\n",
       "</style>\n",
       "<table border=\"1\" class=\"dataframe\">\n",
       "  <thead>\n",
       "    <tr style=\"text-align: right;\">\n",
       "      <th></th>\n",
       "      <th>price</th>\n",
       "      <th>bed</th>\n",
       "      <th>bath</th>\n",
       "      <th>land_size</th>\n",
       "      <th>zip_code</th>\n",
       "      <th>house_size</th>\n",
       "    </tr>\n",
       "  </thead>\n",
       "  <tbody>\n",
       "    <tr>\n",
       "      <th>count</th>\n",
       "      <td>947711.000000</td>\n",
       "      <td>947711.000000</td>\n",
       "      <td>947711.000000</td>\n",
       "      <td>947711.000000</td>\n",
       "      <td>947711.000000</td>\n",
       "      <td>947711.000000</td>\n",
       "    </tr>\n",
       "    <tr>\n",
       "      <th>mean</th>\n",
       "      <td>12.821715</td>\n",
       "      <td>3.206713</td>\n",
       "      <td>2.352889</td>\n",
       "      <td>843.419546</td>\n",
       "      <td>53864.220250</td>\n",
       "      <td>171.131352</td>\n",
       "    </tr>\n",
       "    <tr>\n",
       "      <th>std</th>\n",
       "      <td>0.416950</td>\n",
       "      <td>0.955199</td>\n",
       "      <td>0.817503</td>\n",
       "      <td>296.692430</td>\n",
       "      <td>29381.707055</td>\n",
       "      <td>61.060630</td>\n",
       "    </tr>\n",
       "    <tr>\n",
       "      <th>min</th>\n",
       "      <td>12.000278</td>\n",
       "      <td>1.000000</td>\n",
       "      <td>1.000000</td>\n",
       "      <td>242.811600</td>\n",
       "      <td>602.000000</td>\n",
       "      <td>74.322400</td>\n",
       "    </tr>\n",
       "    <tr>\n",
       "      <th>25%</th>\n",
       "      <td>12.505807</td>\n",
       "      <td>3.000000</td>\n",
       "      <td>2.000000</td>\n",
       "      <td>607.029000</td>\n",
       "      <td>30180.000000</td>\n",
       "      <td>127.834528</td>\n",
       "    </tr>\n",
       "    <tr>\n",
       "      <th>50%</th>\n",
       "      <td>12.821258</td>\n",
       "      <td>3.000000</td>\n",
       "      <td>2.000000</td>\n",
       "      <td>890.309200</td>\n",
       "      <td>54650.000000</td>\n",
       "      <td>158.028003</td>\n",
       "    </tr>\n",
       "    <tr>\n",
       "      <th>75%</th>\n",
       "      <td>13.134392</td>\n",
       "      <td>4.000000</td>\n",
       "      <td>3.000000</td>\n",
       "      <td>1052.183600</td>\n",
       "      <td>79602.000000</td>\n",
       "      <td>205.315630</td>\n",
       "    </tr>\n",
       "    <tr>\n",
       "      <th>max</th>\n",
       "      <td>13.651950</td>\n",
       "      <td>6.000000</td>\n",
       "      <td>5.000000</td>\n",
       "      <td>1578.275400</td>\n",
       "      <td>99923.000000</td>\n",
       "      <td>321.537283</td>\n",
       "    </tr>\n",
       "  </tbody>\n",
       "</table>\n",
       "</div>"
      ],
      "text/plain": [
       "               price            bed           bath      land_size  \\\n",
       "count  947711.000000  947711.000000  947711.000000  947711.000000   \n",
       "mean       12.821715       3.206713       2.352889     843.419546   \n",
       "std         0.416950       0.955199       0.817503     296.692430   \n",
       "min        12.000278       1.000000       1.000000     242.811600   \n",
       "25%        12.505807       3.000000       2.000000     607.029000   \n",
       "50%        12.821258       3.000000       2.000000     890.309200   \n",
       "75%        13.134392       4.000000       3.000000    1052.183600   \n",
       "max        13.651950       6.000000       5.000000    1578.275400   \n",
       "\n",
       "            zip_code     house_size  \n",
       "count  947711.000000  947711.000000  \n",
       "mean    53864.220250     171.131352  \n",
       "std     29381.707055      61.060630  \n",
       "min       602.000000      74.322400  \n",
       "25%     30180.000000     127.834528  \n",
       "50%     54650.000000     158.028003  \n",
       "75%     79602.000000     205.315630  \n",
       "max     99923.000000     321.537283  "
      ]
     },
     "execution_count": 941,
     "metadata": {},
     "output_type": "execute_result"
    }
   ],
   "source": [
    "df.describe()"
   ]
  },
  {
   "cell_type": "code",
   "execution_count": 942,
   "metadata": {},
   "outputs": [
    {
     "data": {
      "text/html": [
       "<div>\n",
       "<style scoped>\n",
       "    .dataframe tbody tr th:only-of-type {\n",
       "        vertical-align: middle;\n",
       "    }\n",
       "\n",
       "    .dataframe tbody tr th {\n",
       "        vertical-align: top;\n",
       "    }\n",
       "\n",
       "    .dataframe thead th {\n",
       "        text-align: right;\n",
       "    }\n",
       "</style>\n",
       "<table border=\"1\" class=\"dataframe\">\n",
       "  <thead>\n",
       "    <tr style=\"text-align: right;\">\n",
       "      <th></th>\n",
       "      <th>status</th>\n",
       "      <th>city</th>\n",
       "      <th>state</th>\n",
       "      <th>bed</th>\n",
       "      <th>bath</th>\n",
       "      <th>land_size</th>\n",
       "      <th>zip_code</th>\n",
       "      <th>house_size</th>\n",
       "    </tr>\n",
       "  </thead>\n",
       "  <tbody>\n",
       "    <tr>\n",
       "      <th>2172542</th>\n",
       "      <td>3</td>\n",
       "      <td>8637</td>\n",
       "      <td>5</td>\n",
       "      <td>3.0</td>\n",
       "      <td>2.0</td>\n",
       "      <td>930.777771</td>\n",
       "      <td>95765.0</td>\n",
       "      <td>184.505356</td>\n",
       "    </tr>\n",
       "    <tr>\n",
       "      <th>528684</th>\n",
       "      <td>1</td>\n",
       "      <td>11139</td>\n",
       "      <td>10</td>\n",
       "      <td>4.0</td>\n",
       "      <td>2.0</td>\n",
       "      <td>485.623199</td>\n",
       "      <td>33884.0</td>\n",
       "      <td>169.826691</td>\n",
       "    </tr>\n",
       "    <tr>\n",
       "      <th>933594</th>\n",
       "      <td>1</td>\n",
       "      <td>9612</td>\n",
       "      <td>27</td>\n",
       "      <td>4.0</td>\n",
       "      <td>3.0</td>\n",
       "      <td>1537.806763</td>\n",
       "      <td>65810.0</td>\n",
       "      <td>321.537292</td>\n",
       "    </tr>\n",
       "    <tr>\n",
       "      <th>1113214</th>\n",
       "      <td>1</td>\n",
       "      <td>6213</td>\n",
       "      <td>46</td>\n",
       "      <td>3.0</td>\n",
       "      <td>2.0</td>\n",
       "      <td>809.372009</td>\n",
       "      <td>78501.0</td>\n",
       "      <td>321.537292</td>\n",
       "    </tr>\n",
       "    <tr>\n",
       "      <th>1140891</th>\n",
       "      <td>1</td>\n",
       "      <td>7278</td>\n",
       "      <td>6</td>\n",
       "      <td>4.0</td>\n",
       "      <td>4.0</td>\n",
       "      <td>1052.183594</td>\n",
       "      <td>80233.0</td>\n",
       "      <td>321.537292</td>\n",
       "    </tr>\n",
       "    <tr>\n",
       "      <th>...</th>\n",
       "      <td>...</td>\n",
       "      <td>...</td>\n",
       "      <td>...</td>\n",
       "      <td>...</td>\n",
       "      <td>...</td>\n",
       "      <td>...</td>\n",
       "      <td>...</td>\n",
       "      <td>...</td>\n",
       "    </tr>\n",
       "    <tr>\n",
       "      <th>854516</th>\n",
       "      <td>1</td>\n",
       "      <td>2473</td>\n",
       "      <td>15</td>\n",
       "      <td>4.0</td>\n",
       "      <td>4.0</td>\n",
       "      <td>1133.120850</td>\n",
       "      <td>60015.0</td>\n",
       "      <td>234.115555</td>\n",
       "    </tr>\n",
       "    <tr>\n",
       "      <th>1110391</th>\n",
       "      <td>1</td>\n",
       "      <td>8944</td>\n",
       "      <td>46</td>\n",
       "      <td>4.0</td>\n",
       "      <td>2.0</td>\n",
       "      <td>485.623199</td>\n",
       "      <td>78254.0</td>\n",
       "      <td>161.279602</td>\n",
       "    </tr>\n",
       "    <tr>\n",
       "      <th>1384775</th>\n",
       "      <td>1</td>\n",
       "      <td>5178</td>\n",
       "      <td>39</td>\n",
       "      <td>4.0</td>\n",
       "      <td>3.0</td>\n",
       "      <td>1052.183594</td>\n",
       "      <td>97601.0</td>\n",
       "      <td>277.779968</td>\n",
       "    </tr>\n",
       "    <tr>\n",
       "      <th>1242963</th>\n",
       "      <td>1</td>\n",
       "      <td>5477</td>\n",
       "      <td>33</td>\n",
       "      <td>4.0</td>\n",
       "      <td>2.0</td>\n",
       "      <td>687.966187</td>\n",
       "      <td>88001.0</td>\n",
       "      <td>166.946686</td>\n",
       "    </tr>\n",
       "    <tr>\n",
       "      <th>830406</th>\n",
       "      <td>1</td>\n",
       "      <td>9861</td>\n",
       "      <td>53</td>\n",
       "      <td>3.0</td>\n",
       "      <td>1.0</td>\n",
       "      <td>647.497620</td>\n",
       "      <td>54880.0</td>\n",
       "      <td>127.834526</td>\n",
       "    </tr>\n",
       "  </tbody>\n",
       "</table>\n",
       "<p>656188 rows × 8 columns</p>\n",
       "</div>"
      ],
      "text/plain": [
       "         status   city  state  bed  bath    land_size  zip_code  house_size\n",
       "2172542       3   8637      5  3.0   2.0   930.777771   95765.0  184.505356\n",
       "528684        1  11139     10  4.0   2.0   485.623199   33884.0  169.826691\n",
       "933594        1   9612     27  4.0   3.0  1537.806763   65810.0  321.537292\n",
       "1113214       1   6213     46  3.0   2.0   809.372009   78501.0  321.537292\n",
       "1140891       1   7278      6  4.0   4.0  1052.183594   80233.0  321.537292\n",
       "...         ...    ...    ...  ...   ...          ...       ...         ...\n",
       "854516        1   2473     15  4.0   4.0  1133.120850   60015.0  234.115555\n",
       "1110391       1   8944     46  4.0   2.0   485.623199   78254.0  161.279602\n",
       "1384775       1   5178     39  4.0   3.0  1052.183594   97601.0  277.779968\n",
       "1242963       1   5477     33  4.0   2.0   687.966187   88001.0  166.946686\n",
       "830406        1   9861     53  3.0   1.0   647.497620   54880.0  127.834526\n",
       "\n",
       "[656188 rows x 8 columns]"
      ]
     },
     "execution_count": 942,
     "metadata": {},
     "output_type": "execute_result"
    }
   ],
   "source": [
    "to = load_pickle('./to_house.pkl')\n",
    "to.train.xs"
   ]
  },
  {
   "cell_type": "code",
   "execution_count": 943,
   "metadata": {},
   "outputs": [],
   "source": [
    "dl_prediction = to.dataloaders().test_dl(one_prediction)\n",
    "xs_test = dl_prediction.train.xs\n",
    "xs_test = xs_test[xs.columns.to_list()]\n",
    "xs_test\n",
    "\n",
    "dl_nn = nn['learner'].dls.test_dl(one_prediction)"
   ]
  },
  {
   "cell_type": "code",
   "execution_count": 944,
   "metadata": {},
   "outputs": [],
   "source": [
    "one_target = df.iloc[[1]]['price']"
   ]
  },
  {
   "cell_type": "code",
   "execution_count": 945,
   "metadata": {},
   "outputs": [
    {
     "data": {
      "text/html": [
       "\n",
       "<style>\n",
       "    /* Turns off some styling */\n",
       "    progress {\n",
       "        /* gets rid of default border in Firefox and Opera. */\n",
       "        border: none;\n",
       "        /* Needs to be in here for Safari polyfill so background images work as expected. */\n",
       "        background-size: auto;\n",
       "    }\n",
       "    progress:not([value]), progress:not([value])::-webkit-progress-bar {\n",
       "        background: repeating-linear-gradient(45deg, #7e7e7e, #7e7e7e 10px, #5c5c5c 10px, #5c5c5c 20px);\n",
       "    }\n",
       "    .progress-bar-interrupted, .progress-bar-interrupted::-webkit-progress-bar {\n",
       "        background: #F44336;\n",
       "    }\n",
       "</style>\n"
      ],
      "text/plain": [
       "<IPython.core.display.HTML object>"
      ]
     },
     "metadata": {},
     "output_type": "display_data"
    },
    {
     "data": {
      "text/html": [],
      "text/plain": [
       "<IPython.core.display.HTML object>"
      ]
     },
     "metadata": {},
     "output_type": "display_data"
    }
   ],
   "source": [
    "pred_nn,_ = nn['learner'].get_preds(dl=dl_nn)"
   ]
  },
  {
   "cell_type": "code",
   "execution_count": 946,
   "metadata": {},
   "outputs": [],
   "source": [
    "pred_rf = tree_models['rft'].predict(xs_test)\n",
    "pred_xgb = tree_models['xgb'].predict(xs_test)\n",
    "preds = to_np(pred_nn.squeeze())"
   ]
  },
  {
   "cell_type": "code",
   "execution_count": 947,
   "metadata": {},
   "outputs": [
    {
     "data": {
      "text/plain": [
       "(0.785229, 0.458664, 0.53452)"
      ]
     },
     "execution_count": 947,
     "metadata": {},
     "output_type": "execute_result"
    }
   ],
   "source": [
    "r_mse(pred_rf,one_target),r_mse(pred_xgb,one_target),r_mse(preds,one_target)"
   ]
  },
  {
   "cell_type": "code",
   "execution_count": 948,
   "metadata": {},
   "outputs": [
    {
     "data": {
      "text/plain": [
       "12.552077463866345"
      ]
     },
     "execution_count": 948,
     "metadata": {},
     "output_type": "execute_result"
    }
   ],
   "source": [
    "\n",
    "combined_predictions = [preds.item(),pred_xgb.item(),pred_rf.item()]\n",
    "weights = [2,3,1]\n",
    "preds  = np.average(combined_predictions,weights=weights)\n",
    "preds"
   ]
  },
  {
   "cell_type": "code",
   "execution_count": 949,
   "metadata": {},
   "outputs": [
    {
     "data": {
      "text/plain": [
       "282681.8852166065"
      ]
     },
     "execution_count": 949,
     "metadata": {},
     "output_type": "execute_result"
    }
   ],
   "source": [
    "np.exp(preds).item()"
   ]
  },
  {
   "cell_type": "code",
   "execution_count": null,
   "metadata": {},
   "outputs": [
    {
     "data": {
      "text/plain": [
       "['price_pred.joblib']"
      ]
     },
     "execution_count": 958,
     "metadata": {},
     "output_type": "execute_result"
    }
   ],
   "source": [
    "# import joblib\n",
    "# export_data = dict(\n",
    "#   learner = nn['learner'],\n",
    "#   xgb = tree_models['xgb'],\n",
    "#   rf = tree_models['rft'],\n",
    "#   to = to)\n",
    "# house_price_prediction = export_data\n",
    "\n",
    "# joblib.dump(house_price_prediction,'price_pred.joblib')"
   ]
  },
  {
   "cell_type": "markdown",
   "metadata": {},
   "source": [
    "An error of 23,000$"
   ]
  },
  {
   "cell_type": "markdown",
   "metadata": {},
   "source": [
    "### Final verdict"
   ]
  },
  {
   "cell_type": "markdown",
   "metadata": {},
   "source": [
    "we have an error of RMSE: 0.206821 after the price column was transformed using the log. so this means that the error of the prediction of the ensemble of the models is off by 74,331 dollars on a scale of: 162,755 to 806,130 which is quite a large scale, and from here we need to understand our error in the problems of real estate: \n",
    "\n",
    "- the mean = 369700\n",
    "- the  \n",
    "\n"
   ]
  },
  {
   "cell_type": "code",
   "execution_count": 950,
   "metadata": {},
   "outputs": [
    {
     "name": "stdout",
     "output_type": "stream",
     "text": [
      "RMSE in the original scale (dollars): 75842.90463130818\n"
     ]
    }
   ],
   "source": [
    "# Assuming RMSE on the log scale is 0.206821\n",
    "rmse_log = 0.201057\n",
    "# Mean price from the original data\n",
    "mean_price = df_100k['price'].mean()  # mean of the price column in log-scale\n",
    "mean_price = np.exp(mean_price)\n",
    "\n",
    "# Compute RMSE on the original scale\n",
    "rmse_original = rmse_log * mean_price * np.exp(rmse_log**2 / 2)\n",
    "\n",
    "print(f\"RMSE in the original scale (dollars): {rmse_original}\")\n"
   ]
  },
  {
   "cell_type": "markdown",
   "metadata": {},
   "source": [
    "`np.exp(rmse_log**2 / 2)` adjusts the error based on the spread of the data on the log scale."
   ]
  },
  {
   "cell_type": "code",
   "execution_count": 951,
   "metadata": {},
   "outputs": [
    {
     "data": {
      "text/plain": [
       "count    937411.000000\n",
       "mean         12.820374\n",
       "std           0.417607\n",
       "min          12.000278\n",
       "25%          12.502467\n",
       "50%          12.820988\n",
       "75%          13.132314\n",
       "max          13.651950\n",
       "Name: price, dtype: float64"
      ]
     },
     "execution_count": 951,
     "metadata": {},
     "output_type": "execute_result"
    }
   ],
   "source": [
    "df_100k['price'].describe()"
   ]
  },
  {
   "cell_type": "code",
   "execution_count": 952,
   "metadata": {},
   "outputs": [
    {
     "data": {
      "text/plain": [
       "(369699.9464213336, 162800.04354077185, 849115.0767641028)"
      ]
     },
     "execution_count": 952,
     "metadata": {},
     "output_type": "execute_result"
    }
   ],
   "source": [
    "np.exp(12.820447), np.exp(12.000278), np.exp(13.651950), "
   ]
  },
  {
   "attachments": {
    "image.png": {
     "image/png": "[encoded data removed]"
    }
   },
   "cell_type": "markdown",
   "metadata": {},
   "source": [
    "![image.png](attachment:image.png)"
   ]
  },
  {
   "cell_type": "markdown",
   "metadata": {},
   "source": []
  }
 ],
 "metadata": {
  "kernelspec": {
   "display_name": "Python 3 (ipykernel)",
   "language": "python",
   "name": "python3"
  },
  "language_info": {
   "codemirror_mode": {
    "name": "ipython",
    "version": 3
   },
   "file_extension": ".py",
   "mimetype": "text/x-python",
   "name": "python",
   "nbconvert_exporter": "python",
   "pygments_lexer": "ipython3",
   "version": "3.11.7"
  }
 },
 "nbformat": 4,
 "nbformat_minor": 2
}
